{
  "nbformat": 4,
  "nbformat_minor": 0,
  "metadata": {
    "colab": {
      "name": "Data-Processing-Part2.ipynb",
      "provenance": [],
      "authorship_tag": "ABX9TyMQtg/gMcyYsx9ANm+6WDn1",
      "include_colab_link": true
    },
    "kernelspec": {
      "name": "python3",
      "display_name": "Python 3"
    },
    "language_info": {
      "name": "python"
    }
  },
  "cells": [
    {
      "cell_type": "markdown",
      "metadata": {
        "id": "view-in-github",
        "colab_type": "text"
      },
      "source": [
        "<a href=\"https://colab.research.google.com/github/buczekEngineering/Stroke-Prediction-Application/blob/main/Data_Processing_Part2.ipynb\" target=\"_parent\"><img src=\"https://colab.research.google.com/assets/colab-badge.svg\" alt=\"Open In Colab\"/></a>"
      ]
    },
    {
      "cell_type": "markdown",
      "metadata": {
        "id": "dDaSY0NyxJ5y"
      },
      "source": [
        "Data Science Project \n",
        "Workflow\n",
        "\n",
        "    Handling missing values\n",
        "    Outliers Detection: graphical, mathematical\n",
        "    Labels Encoding\n",
        "    Feature Selection\n",
        "    Feature Importance\n",
        "    Building a model\n"
      ]
    },
    {
      "cell_type": "code",
      "metadata": {
        "id": "IIm_68G5wjwk"
      },
      "source": [
        "import numpy as np \n",
        "import pandas as pd\n",
        "from google.colab import drive\n",
        "import matplotlib.pyplot as plt"
      ],
      "execution_count": 105,
      "outputs": []
    },
    {
      "cell_type": "code",
      "metadata": {
        "colab": {
          "base_uri": "https://localhost:8080/"
        },
        "id": "yBGgHk0RxZzw",
        "outputId": "0d221eb3-c559-42c6-b07b-631d75e3e449"
      },
      "source": [
        "drive.mount(\"/content/drive\")"
      ],
      "execution_count": 106,
      "outputs": [
        {
          "output_type": "stream",
          "text": [
            "Drive already mounted at /content/drive; to attempt to forcibly remount, call drive.mount(\"/content/drive\", force_remount=True).\n"
          ],
          "name": "stdout"
        }
      ]
    },
    {
      "cell_type": "code",
      "metadata": {
        "id": "0vqLkKAuxf-R"
      },
      "source": [
        "data_original = pd.read_csv(\"/content/drive/MyDrive/Stroke_Prediction/healthcare-dataset-stroke-data.csv\")\n",
        "data = data_original.copy()"
      ],
      "execution_count": 107,
      "outputs": []
    },
    {
      "cell_type": "markdown",
      "metadata": {
        "id": "ZC8e6LXY4V4R"
      },
      "source": [
        "# Handling missing values"
      ]
    },
    {
      "cell_type": "code",
      "metadata": {
        "colab": {
          "base_uri": "https://localhost:8080/"
        },
        "id": "gp7YJUQJxmfw",
        "outputId": "1aa04545-4800-49d1-bab7-37860082e0ab"
      },
      "source": [
        "data.isnull().sum()"
      ],
      "execution_count": 108,
      "outputs": [
        {
          "output_type": "execute_result",
          "data": {
            "text/plain": [
              "id                     0\n",
              "gender                 0\n",
              "age                    0\n",
              "hypertension           0\n",
              "heart_disease          0\n",
              "ever_married           0\n",
              "work_type              0\n",
              "Residence_type         0\n",
              "avg_glucose_level      0\n",
              "bmi                  201\n",
              "smoking_status         0\n",
              "stroke                 0\n",
              "dtype: int64"
            ]
          },
          "metadata": {
            "tags": []
          },
          "execution_count": 108
        }
      ]
    },
    {
      "cell_type": "code",
      "metadata": {
        "colab": {
          "base_uri": "https://localhost:8080/",
          "height": 0
        },
        "id": "6FSHjvpGxrS4",
        "outputId": "21c6ad1c-639b-4682-ded9-f120970bdca4"
      },
      "source": [
        "# we habe 201 missing values in bmi\n",
        "# womans and mans usually have a different mean, max, min and quartile in bmi parameter. This will be checked below using boxplot\n",
        "import seaborn as sns\n",
        "plt.figure(figsize=(16,8))\n",
        "sns.boxplot(x=data[\"gender\"], y=data[\"bmi\"], color=\"magenta\")"
      ],
      "execution_count": 109,
      "outputs": [
        {
          "output_type": "execute_result",
          "data": {
            "text/plain": [
              "<matplotlib.axes._subplots.AxesSubplot at 0x7f3561b6c9d0>"
            ]
          },
          "metadata": {
            "tags": []
          },
          "execution_count": 109
        },
        {
          "output_type": "display_data",
          "data": {
            "image/png": "[encoded data removed]",
            "text/plain": [
              "<Figure size 1152x576 with 1 Axes>"
            ]
          },
          "metadata": {
            "tags": [],
            "needs_background": "light"
          }
        }
      ]
    },
    {
      "cell_type": "markdown",
      "metadata": {
        "id": "aSJ-XSmrzgyy"
      },
      "source": [
        "On the boxplot we can observe that the mean value for womans and mans are quite close, so we can probably replace the missing value based on the general bmi value. But first we should check these values more accurately "
      ]
    },
    {
      "cell_type": "code",
      "metadata": {
        "colab": {
          "base_uri": "https://localhost:8080/"
        },
        "id": "Dru6ThZ_1YhJ",
        "outputId": "423ea556-ed66-4073-9fde-20fbcb225d77"
      },
      "source": [
        "print(\"The mean value of BMI for Mans:\",np.mean(data[data[\"gender\"]==\"Male\"][\"bmi\"]))"
      ],
      "execution_count": 110,
      "outputs": [
        {
          "output_type": "stream",
          "text": [
            "The mean value of BMI for Mans: 28.647936350074616\n"
          ],
          "name": "stdout"
        }
      ]
    },
    {
      "cell_type": "code",
      "metadata": {
        "colab": {
          "base_uri": "https://localhost:8080/"
        },
        "id": "PBVBkqGy1pWS",
        "outputId": "688a4928-e614-4b2c-b626-7f49fb432fae"
      },
      "source": [
        "print(\"The mean value of BMI for Womans:\",np.mean(data[data[\"gender\"]==\"Female\"][\"bmi\"]))"
      ],
      "execution_count": 111,
      "outputs": [
        {
          "output_type": "stream",
          "text": [
            "The mean value of BMI for Womans: 29.065757680359038\n"
          ],
          "name": "stdout"
        }
      ]
    },
    {
      "cell_type": "code",
      "metadata": {
        "colab": {
          "base_uri": "https://localhost:8080/"
        },
        "id": "lH72ftAk2YCk",
        "outputId": "d05bd576-958a-4cfa-e881-872fbdaa8ddd"
      },
      "source": [
        "mean_bmi = np.mean(data[\"bmi\"])\n",
        "print(\"The mean value of BMI in the dataset:\", mean_bmi)"
      ],
      "execution_count": 112,
      "outputs": [
        {
          "output_type": "stream",
          "text": [
            "The mean value of BMI in the dataset: 28.893236911794673\n"
          ],
          "name": "stdout"
        }
      ]
    },
    {
      "cell_type": "markdown",
      "metadata": {
        "id": "wTl1NQ-I2vd-"
      },
      "source": [
        "Replace the missing BMI value with general mean of bmi in the dataset "
      ]
    },
    {
      "cell_type": "code",
      "metadata": {
        "id": "8EJSEHe73XV9"
      },
      "source": [
        "data[\"bmi\"] = data[\"bmi\"].fillna(mean_bmi)"
      ],
      "execution_count": 113,
      "outputs": []
    },
    {
      "cell_type": "code",
      "metadata": {
        "colab": {
          "base_uri": "https://localhost:8080/"
        },
        "id": "hczHvYp64Mdm",
        "outputId": "8105af05-ca8b-44fb-dfd9-f5fa1b7ae6f7"
      },
      "source": [
        "data.isnull().sum()"
      ],
      "execution_count": 114,
      "outputs": [
        {
          "output_type": "execute_result",
          "data": {
            "text/plain": [
              "id                   0\n",
              "gender               0\n",
              "age                  0\n",
              "hypertension         0\n",
              "heart_disease        0\n",
              "ever_married         0\n",
              "work_type            0\n",
              "Residence_type       0\n",
              "avg_glucose_level    0\n",
              "bmi                  0\n",
              "smoking_status       0\n",
              "stroke               0\n",
              "dtype: int64"
            ]
          },
          "metadata": {
            "tags": []
          },
          "execution_count": 114
        }
      ]
    },
    {
      "cell_type": "markdown",
      "metadata": {
        "id": "Q0Bghw2k4TJN"
      },
      "source": [
        "# Outliers Detection: graphical, mathematical"
      ]
    },
    {
      "cell_type": "markdown",
      "metadata": {
        "id": "8NVDycNBD2rU"
      },
      "source": [
        "A great method for graphical outliers detection is boxplot. We will search for an outlier in continuos variable."
      ]
    },
    {
      "cell_type": "code",
      "metadata": {
        "id": "PY3d4QF3EjY6"
      },
      "source": [
        "conti_vars =[\"age\", \"bmi\", \"avg_glucose_level\"]"
      ],
      "execution_count": 115,
      "outputs": []
    },
    {
      "cell_type": "code",
      "metadata": {
        "id": "MEQgz16S4a4w"
      },
      "source": [
        "def plot_desc_analytics(df, column_name):\n",
        "  plt.figure(figsize=(16,8))\n",
        "  plt.title(column_name)\n",
        "  sns.boxplot(df[column_name], color=\"magenta\")\n",
        "  "
      ],
      "execution_count": 116,
      "outputs": []
    },
    {
      "cell_type": "code",
      "metadata": {
        "colab": {
          "base_uri": "https://localhost:8080/",
          "height": 0
        },
        "id": "guPJDC2iEIeb",
        "outputId": "479fd742-217f-4960-c90b-cc8c8038aa2e"
      },
      "source": [
        "for col in conti_vars:\n",
        "  plot_desc_analytics(data, col)"
      ],
      "execution_count": 117,
      "outputs": [
        {
          "output_type": "stream",
          "text": [
            "/usr/local/lib/python3.7/dist-packages/seaborn/_decorators.py:43: FutureWarning: Pass the following variable as a keyword arg: x. From version 0.12, the only valid positional argument will be `data`, and passing other arguments without an explicit keyword will result in an error or misinterpretation.\n",
            "  FutureWarning\n",
            "/usr/local/lib/python3.7/dist-packages/seaborn/_decorators.py:43: FutureWarning: Pass the following variable as a keyword arg: x. From version 0.12, the only valid positional argument will be `data`, and passing other arguments without an explicit keyword will result in an error or misinterpretation.\n",
            "  FutureWarning\n",
            "/usr/local/lib/python3.7/dist-packages/seaborn/_decorators.py:43: FutureWarning: Pass the following variable as a keyword arg: x. From version 0.12, the only valid positional argument will be `data`, and passing other arguments without an explicit keyword will result in an error or misinterpretation.\n",
            "  FutureWarning\n"
          ],
          "name": "stderr"
        },
        {
          "output_type": "display_data",
          "data": {
            "image/png": "[encoded data removed]",
            "text/plain": [
              "<Figure size 1152x576 with 1 Axes>"
            ]
          },
          "metadata": {
            "tags": [],
            "needs_background": "light"
          }
        },
        {
          "output_type": "display_data",
          "data": {
            "image/png": "[encoded data removed]",
            "text/plain": [
              "<Figure size 1152x576 with 1 Axes>"
            ]
          },
          "metadata": {
            "tags": [],
            "needs_background": "light"
          }
        },
        {
          "output_type": "display_data",
          "data": {
            "image/png": "[encoded data removed]",
            "text/plain": [
              "<Figure size 1152x576 with 1 Axes>"
            ]
          },
          "metadata": {
            "tags": [],
            "needs_background": "light"
          }
        }
      ]
    },
    {
      "cell_type": "markdown",
      "metadata": {
        "id": "CXoK8Re9FbAD"
      },
      "source": [
        "Based on the graphical represention we have outliers in \"BMI\" and in \"Avg_glucose_level\""
      ]
    },
    {
      "cell_type": "code",
      "metadata": {
        "id": "2OtWxQSKGZLU"
      },
      "source": [
        "def get_quantile(data:pd.DataFrame, col_name:str): \n",
        "  q1 = data[col_name].quantile(0.25)\n",
        "  q3 = data[col_name].quantile(0.75)\n",
        "  return q1, q3\n",
        "\n",
        "def get_thresholds(data:pd.DataFrame, q1:float, q3:float, iqr:float):\n",
        "  lower_t = q1 - 1.5*iqr\n",
        "  upper_t = q3 + 1.5*iqr\n",
        "  return lower_t, upper_t"
      ],
      "execution_count": 118,
      "outputs": []
    },
    {
      "cell_type": "code",
      "metadata": {
        "colab": {
          "base_uri": "https://localhost:8080/"
        },
        "id": "ikCznCpjGag8",
        "outputId": "705b64cf-a40b-497a-8ed8-048a712e6dfe"
      },
      "source": [
        "q1, q3 = get_quantile(data=data, col_name=\"avg_glucose_level\")\n",
        "lower_t, upper_t = get_thresholds(data=data, q1=q1, q3=q3, iqr=q3-q1) \n",
        "outliers_glu = data.query(\"avg_glucose_level > @upper_t or avg_glucose_level < @lower_t\")\n",
        "print(outliers_glu)"
      ],
      "execution_count": 119,
      "outputs": [
        {
          "output_type": "stream",
          "text": [
            "         id  gender   age  ...        bmi   smoking_status stroke\n",
            "0      9046    Male  67.0  ...  36.600000  formerly smoked      1\n",
            "1     51676  Female  61.0  ...  28.893237     never smoked      1\n",
            "3     60182  Female  49.0  ...  34.400000           smokes      1\n",
            "4      1665  Female  79.0  ...  24.000000     never smoked      1\n",
            "5     56669    Male  81.0  ...  29.000000  formerly smoked      1\n",
            "...     ...     ...   ...  ...        ...              ...    ...\n",
            "5061  38009    Male  41.0  ...  32.300000     never smoked      0\n",
            "5062  11184  Female  82.0  ...  36.900000     never smoked      0\n",
            "5063  68967    Male  39.0  ...  27.700000          Unknown      0\n",
            "5064  66684    Male  70.0  ...  24.300000          Unknown      0\n",
            "5076  39935  Female  34.0  ...  23.000000     never smoked      0\n",
            "\n",
            "[627 rows x 12 columns]\n"
          ],
          "name": "stdout"
        }
      ]
    },
    {
      "cell_type": "code",
      "metadata": {
        "colab": {
          "base_uri": "https://localhost:8080/"
        },
        "id": "ui_j4MMAHHr1",
        "outputId": "10b9b032-f113-49c9-e036-5bda313a8d3e"
      },
      "source": [
        "# remove the row with outliers in avg_glucose_level\n",
        "data = data[(data[\"avg_glucose_level\"]> lower_t) & (data[\"avg_glucose_level\"]<upper_t)]\n",
        "data.shape"
      ],
      "execution_count": 120,
      "outputs": [
        {
          "output_type": "execute_result",
          "data": {
            "text/plain": [
              "(4483, 12)"
            ]
          },
          "metadata": {
            "tags": []
          },
          "execution_count": 120
        }
      ]
    },
    {
      "cell_type": "code",
      "metadata": {
        "colab": {
          "base_uri": "https://localhost:8080/"
        },
        "id": "c-dAVE7tHxeS",
        "outputId": "9496f6a9-4f35-4b6a-a470-a1d68e4d50df"
      },
      "source": [
        "q1, q3 = get_quantile(data=data, col_name=\"bmi\")\n",
        "lower_t, upper_t = get_thresholds(data=data, q1=q1, q3=q3, iqr=q3-q1) \n",
        "outliers_bmi = data.query(\"bmi > @upper_t or bmi < @lower_t\")\n",
        "print(outliers_bmi)"
      ],
      "execution_count": 121,
      "outputs": [
        {
          "output_type": "stream",
          "text": [
            "         id  gender   age  ...   bmi   smoking_status stroke\n",
            "79    42117    Male  43.0  ...  45.9          Unknown      1\n",
            "270   72911  Female  57.0  ...  60.9           smokes      0\n",
            "333    1703  Female  52.0  ...  54.7  formerly smoked      0\n",
            "341   38805  Female  37.0  ...  48.2  formerly smoked      0\n",
            "358   66333    Male  52.0  ...  64.8     never smoked      0\n",
            "...     ...     ...   ...  ...   ...              ...    ...\n",
            "4906  72696  Female  53.0  ...  54.1     never smoked      0\n",
            "4976  63656  Female  18.0  ...  46.0  formerly smoked      0\n",
            "5009  40732  Female  50.0  ...  49.5  formerly smoked      0\n",
            "5057  38349  Female  49.0  ...  47.6     never smoked      0\n",
            "5103  22127  Female  18.0  ...  46.9          Unknown      0\n",
            "\n",
            "[100 rows x 12 columns]\n"
          ],
          "name": "stdout"
        }
      ]
    },
    {
      "cell_type": "code",
      "metadata": {
        "colab": {
          "base_uri": "https://localhost:8080/"
        },
        "id": "1wtE30qoJFko",
        "outputId": "140fe440-b7b9-4314-f62d-18d7cd44bf41"
      },
      "source": [
        "data = data[(data[\"bmi\"]> lower_t) & (data[\"bmi\"]< upper_t)]\n",
        "data.shape"
      ],
      "execution_count": 122,
      "outputs": [
        {
          "output_type": "execute_result",
          "data": {
            "text/plain": [
              "(4383, 12)"
            ]
          },
          "metadata": {
            "tags": []
          },
          "execution_count": 122
        }
      ]
    },
    {
      "cell_type": "markdown",
      "metadata": {
        "id": "OEOxUMV5JbBp"
      },
      "source": [
        "Double check the distrubution of the data without outliers"
      ]
    },
    {
      "cell_type": "code",
      "metadata": {
        "colab": {
          "base_uri": "https://localhost:8080/",
          "height": 0
        },
        "id": "ZiVTeAmQJqqG",
        "outputId": "d8109512-ba94-4ce9-d894-e4b730b509e5"
      },
      "source": [
        "sns.boxplot(data[\"bmi\"], color=\"gold\")"
      ],
      "execution_count": 123,
      "outputs": [
        {
          "output_type": "stream",
          "text": [
            "/usr/local/lib/python3.7/dist-packages/seaborn/_decorators.py:43: FutureWarning: Pass the following variable as a keyword arg: x. From version 0.12, the only valid positional argument will be `data`, and passing other arguments without an explicit keyword will result in an error or misinterpretation.\n",
            "  FutureWarning\n"
          ],
          "name": "stderr"
        },
        {
          "output_type": "execute_result",
          "data": {
            "text/plain": [
              "<matplotlib.axes._subplots.AxesSubplot at 0x7f3561a06510>"
            ]
          },
          "metadata": {
            "tags": []
          },
          "execution_count": 123
        },
        {
          "output_type": "display_data",
          "data": {
            "image/png": "[encoded data removed]",
            "text/plain": [
              "<Figure size 432x288 with 1 Axes>"
            ]
          },
          "metadata": {
            "tags": [],
            "needs_background": "light"
          }
        }
      ]
    },
    {
      "cell_type": "code",
      "metadata": {
        "colab": {
          "base_uri": "https://localhost:8080/",
          "height": 0
        },
        "id": "CmDBBHh5Jw9G",
        "outputId": "81703582-e29a-42dd-ad5c-798db12a4a08"
      },
      "source": [
        "sns.boxplot(data[\"avg_glucose_level\"], color=\"paleturquoise\")"
      ],
      "execution_count": 124,
      "outputs": [
        {
          "output_type": "stream",
          "text": [
            "/usr/local/lib/python3.7/dist-packages/seaborn/_decorators.py:43: FutureWarning: Pass the following variable as a keyword arg: x. From version 0.12, the only valid positional argument will be `data`, and passing other arguments without an explicit keyword will result in an error or misinterpretation.\n",
            "  FutureWarning\n"
          ],
          "name": "stderr"
        },
        {
          "output_type": "execute_result",
          "data": {
            "text/plain": [
              "<matplotlib.axes._subplots.AxesSubplot at 0x7f3561900fd0>"
            ]
          },
          "metadata": {
            "tags": []
          },
          "execution_count": 124
        },
        {
          "output_type": "display_data",
          "data": {
            "image/png": "[encoded data removed]",
            "text/plain": [
              "<Figure size 432x288 with 1 Axes>"
            ]
          },
          "metadata": {
            "tags": [],
            "needs_background": "light"
          }
        }
      ]
    },
    {
      "cell_type": "code",
      "metadata": {
        "colab": {
          "base_uri": "https://localhost:8080/",
          "height": 0
        },
        "id": "KVyyHVS1KEIH",
        "outputId": "1ce5c9d9-e36b-4c85-dafb-0209d127d17d"
      },
      "source": [
        "data[\"bmi\"].hist(bins=50, figsize=(10,8), color = \"gold\")"
      ],
      "execution_count": 125,
      "outputs": [
        {
          "output_type": "execute_result",
          "data": {
            "text/plain": [
              "<matplotlib.axes._subplots.AxesSubplot at 0x7f356204a450>"
            ]
          },
          "metadata": {
            "tags": []
          },
          "execution_count": 125
        },
        {
          "output_type": "display_data",
          "data": {
            "image/png": "[encoded data removed]",
            "text/plain": [
              "<Figure size 720x576 with 1 Axes>"
            ]
          },
          "metadata": {
            "tags": [],
            "needs_background": "light"
          }
        }
      ]
    },
    {
      "cell_type": "code",
      "metadata": {
        "colab": {
          "base_uri": "https://localhost:8080/",
          "height": 0
        },
        "id": "sfdTB6I0KuZP",
        "outputId": "0edaee0c-a549-4609-9b93-95e2a4fa9039"
      },
      "source": [
        "data[\"avg_glucose_level\"].hist(bins=50, figsize=(10,8), color=\"paleturquoise\")"
      ],
      "execution_count": 126,
      "outputs": [
        {
          "output_type": "execute_result",
          "data": {
            "text/plain": [
              "<matplotlib.axes._subplots.AxesSubplot at 0x7f3561900ed0>"
            ]
          },
          "metadata": {
            "tags": []
          },
          "execution_count": 126
        },
        {
          "output_type": "display_data",
          "data": {
            "image/png": "[encoded data removed]",
            "text/plain": [
              "<Figure size 720x576 with 1 Axes>"
            ]
          },
          "metadata": {
            "tags": [],
            "needs_background": "light"
          }
        }
      ]
    },
    {
      "cell_type": "markdown",
      "metadata": {
        "id": "BX9CuDqALSlX"
      },
      "source": [
        "# Encoding Categorical Features\n",
        "\n",
        "Encoding with numerical data can be done only on binary data, \n",
        "if we have more then two categories we should use one hot encoding. Sklearn makes the fundamental assumption that numerical features reflects algebraic quantities. "
      ]
    },
    {
      "cell_type": "code",
      "metadata": {
        "colab": {
          "base_uri": "https://localhost:8080/"
        },
        "id": "iW5i6ZxcMFEB",
        "outputId": "480fb525-79e3-4165-a2e3-69b93e9e89cc"
      },
      "source": [
        "# list all categorical variables\n",
        "cat_var = [cat for cat in data.columns if data[cat].dtypes ==\"O\"]\n",
        "cat_var"
      ],
      "execution_count": 127,
      "outputs": [
        {
          "output_type": "execute_result",
          "data": {
            "text/plain": [
              "['gender', 'ever_married', 'work_type', 'Residence_type', 'smoking_status']"
            ]
          },
          "metadata": {
            "tags": []
          },
          "execution_count": 127
        }
      ]
    },
    {
      "cell_type": "code",
      "metadata": {
        "colab": {
          "base_uri": "https://localhost:8080/"
        },
        "id": "h-hrhWcmPuj0",
        "outputId": "a5beccb0-2317-4423-f8af-332b9c89dcdd"
      },
      "source": [
        "# check how many unique entries are in aformentioned categorical variables\n",
        "for col in cat_var:\n",
        "  print(\"Feature {} has {} unique entries: {}\".format(col, len(data[col].unique()), data[col].unique()))"
      ],
      "execution_count": 128,
      "outputs": [
        {
          "output_type": "stream",
          "text": [
            "Feature gender has 3 unique entries: ['Male' 'Female' 'Other']\n",
            "Feature ever_married has 2 unique entries: ['Yes' 'No']\n",
            "Feature work_type has 5 unique entries: ['Private' 'Govt_job' 'Self-employed' 'children' 'Never_worked']\n",
            "Feature Residence_type has 2 unique entries: ['Rural' 'Urban']\n",
            "Feature smoking_status has 4 unique entries: ['never smoked' 'Unknown' 'smokes' 'formerly smoked']\n"
          ],
          "name": "stdout"
        }
      ]
    },
    {
      "cell_type": "code",
      "metadata": {
        "colab": {
          "base_uri": "https://localhost:8080/",
          "height": 207
        },
        "id": "IWSAYkBFQQMe",
        "outputId": "86ac0f43-1f2c-44b6-a584-0225389164be"
      },
      "source": [
        "# we can do numerical/binary encoding for ever_married and Residence_type\n",
        "married_map = {\"No\": 0, \"Yes\":1}\n",
        "residence_map = {\"Rural\":0, \"Urban\":1}\n",
        "\n",
        "data[\"ever_married\"] = data[\"ever_married\"].replace(married_map)\n",
        "data[\"Residence_type\"]= data[\"Residence_type\"].replace(residence_map)\n",
        "\n",
        "data.head()"
      ],
      "execution_count": 129,
      "outputs": [
        {
          "output_type": "execute_result",
          "data": {
            "text/html": [
              "<div>\n",
              "<style scoped>\n",
              "    .dataframe tbody tr th:only-of-type {\n",
              "        vertical-align: middle;\n",
              "    }\n",
              "\n",
              "    .dataframe tbody tr th {\n",
              "        vertical-align: top;\n",
              "    }\n",
              "\n",
              "    .dataframe thead th {\n",
              "        text-align: right;\n",
              "    }\n",
              "</style>\n",
              "<table border=\"1\" class=\"dataframe\">\n",
              "  <thead>\n",
              "    <tr style=\"text-align: right;\">\n",
              "      <th></th>\n",
              "      <th>id</th>\n",
              "      <th>gender</th>\n",
              "      <th>age</th>\n",
              "      <th>hypertension</th>\n",
              "      <th>heart_disease</th>\n",
              "      <th>ever_married</th>\n",
              "      <th>work_type</th>\n",
              "      <th>Residence_type</th>\n",
              "      <th>avg_glucose_level</th>\n",
              "      <th>bmi</th>\n",
              "      <th>smoking_status</th>\n",
              "      <th>stroke</th>\n",
              "    </tr>\n",
              "  </thead>\n",
              "  <tbody>\n",
              "    <tr>\n",
              "      <th>2</th>\n",
              "      <td>31112</td>\n",
              "      <td>Male</td>\n",
              "      <td>80.0</td>\n",
              "      <td>0</td>\n",
              "      <td>1</td>\n",
              "      <td>1</td>\n",
              "      <td>Private</td>\n",
              "      <td>0</td>\n",
              "      <td>105.92</td>\n",
              "      <td>32.500000</td>\n",
              "      <td>never smoked</td>\n",
              "      <td>1</td>\n",
              "    </tr>\n",
              "    <tr>\n",
              "      <th>6</th>\n",
              "      <td>53882</td>\n",
              "      <td>Male</td>\n",
              "      <td>74.0</td>\n",
              "      <td>1</td>\n",
              "      <td>1</td>\n",
              "      <td>1</td>\n",
              "      <td>Private</td>\n",
              "      <td>0</td>\n",
              "      <td>70.09</td>\n",
              "      <td>27.400000</td>\n",
              "      <td>never smoked</td>\n",
              "      <td>1</td>\n",
              "    </tr>\n",
              "    <tr>\n",
              "      <th>7</th>\n",
              "      <td>10434</td>\n",
              "      <td>Female</td>\n",
              "      <td>69.0</td>\n",
              "      <td>0</td>\n",
              "      <td>0</td>\n",
              "      <td>0</td>\n",
              "      <td>Private</td>\n",
              "      <td>1</td>\n",
              "      <td>94.39</td>\n",
              "      <td>22.800000</td>\n",
              "      <td>never smoked</td>\n",
              "      <td>1</td>\n",
              "    </tr>\n",
              "    <tr>\n",
              "      <th>8</th>\n",
              "      <td>27419</td>\n",
              "      <td>Female</td>\n",
              "      <td>59.0</td>\n",
              "      <td>0</td>\n",
              "      <td>0</td>\n",
              "      <td>1</td>\n",
              "      <td>Private</td>\n",
              "      <td>0</td>\n",
              "      <td>76.15</td>\n",
              "      <td>28.893237</td>\n",
              "      <td>Unknown</td>\n",
              "      <td>1</td>\n",
              "    </tr>\n",
              "    <tr>\n",
              "      <th>9</th>\n",
              "      <td>60491</td>\n",
              "      <td>Female</td>\n",
              "      <td>78.0</td>\n",
              "      <td>0</td>\n",
              "      <td>0</td>\n",
              "      <td>1</td>\n",
              "      <td>Private</td>\n",
              "      <td>1</td>\n",
              "      <td>58.57</td>\n",
              "      <td>24.200000</td>\n",
              "      <td>Unknown</td>\n",
              "      <td>1</td>\n",
              "    </tr>\n",
              "  </tbody>\n",
              "</table>\n",
              "</div>"
            ],
            "text/plain": [
              "      id  gender   age  ...        bmi  smoking_status  stroke\n",
              "2  31112    Male  80.0  ...  32.500000    never smoked       1\n",
              "6  53882    Male  74.0  ...  27.400000    never smoked       1\n",
              "7  10434  Female  69.0  ...  22.800000    never smoked       1\n",
              "8  27419  Female  59.0  ...  28.893237         Unknown       1\n",
              "9  60491  Female  78.0  ...  24.200000         Unknown       1\n",
              "\n",
              "[5 rows x 12 columns]"
            ]
          },
          "metadata": {
            "tags": []
          },
          "execution_count": 129
        }
      ]
    },
    {
      "cell_type": "markdown",
      "metadata": {
        "id": "KAw2vyXpSaHz"
      },
      "source": [
        "One-hot Encoding on columns: \"Gender, \"Work_type\", \"Smoking_status\""
      ]
    },
    {
      "cell_type": "code",
      "metadata": {
        "id": "D3KwdvH8SdVm"
      },
      "source": [
        "from sklearn.preprocessing import OneHotEncoder\n",
        "ohe = OneHotEncoder() "
      ],
      "execution_count": 130,
      "outputs": []
    },
    {
      "cell_type": "code",
      "metadata": {
        "colab": {
          "base_uri": "https://localhost:8080/",
          "height": 424
        },
        "id": "XEzI2tZdWJ5G",
        "outputId": "31ca2a68-07c6-4de5-ed16-5e450c41ffc3"
      },
      "source": [
        "data['gender'] = pd.Categorical(data['gender'])\n",
        "dummy_gender = pd.get_dummies(data['gender'], prefix = 'gender_encoded')\n",
        "dummy_gender"
      ],
      "execution_count": 131,
      "outputs": [
        {
          "output_type": "execute_result",
          "data": {
            "text/html": [
              "<div>\n",
              "<style scoped>\n",
              "    .dataframe tbody tr th:only-of-type {\n",
              "        vertical-align: middle;\n",
              "    }\n",
              "\n",
              "    .dataframe tbody tr th {\n",
              "        vertical-align: top;\n",
              "    }\n",
              "\n",
              "    .dataframe thead th {\n",
              "        text-align: right;\n",
              "    }\n",
              "</style>\n",
              "<table border=\"1\" class=\"dataframe\">\n",
              "  <thead>\n",
              "    <tr style=\"text-align: right;\">\n",
              "      <th></th>\n",
              "      <th>gender_encoded_Female</th>\n",
              "      <th>gender_encoded_Male</th>\n",
              "      <th>gender_encoded_Other</th>\n",
              "    </tr>\n",
              "  </thead>\n",
              "  <tbody>\n",
              "    <tr>\n",
              "      <th>2</th>\n",
              "      <td>0</td>\n",
              "      <td>1</td>\n",
              "      <td>0</td>\n",
              "    </tr>\n",
              "    <tr>\n",
              "      <th>6</th>\n",
              "      <td>0</td>\n",
              "      <td>1</td>\n",
              "      <td>0</td>\n",
              "    </tr>\n",
              "    <tr>\n",
              "      <th>7</th>\n",
              "      <td>1</td>\n",
              "      <td>0</td>\n",
              "      <td>0</td>\n",
              "    </tr>\n",
              "    <tr>\n",
              "      <th>8</th>\n",
              "      <td>1</td>\n",
              "      <td>0</td>\n",
              "      <td>0</td>\n",
              "    </tr>\n",
              "    <tr>\n",
              "      <th>9</th>\n",
              "      <td>1</td>\n",
              "      <td>0</td>\n",
              "      <td>0</td>\n",
              "    </tr>\n",
              "    <tr>\n",
              "      <th>...</th>\n",
              "      <td>...</td>\n",
              "      <td>...</td>\n",
              "      <td>...</td>\n",
              "    </tr>\n",
              "    <tr>\n",
              "      <th>5105</th>\n",
              "      <td>1</td>\n",
              "      <td>0</td>\n",
              "      <td>0</td>\n",
              "    </tr>\n",
              "    <tr>\n",
              "      <th>5106</th>\n",
              "      <td>1</td>\n",
              "      <td>0</td>\n",
              "      <td>0</td>\n",
              "    </tr>\n",
              "    <tr>\n",
              "      <th>5107</th>\n",
              "      <td>1</td>\n",
              "      <td>0</td>\n",
              "      <td>0</td>\n",
              "    </tr>\n",
              "    <tr>\n",
              "      <th>5108</th>\n",
              "      <td>0</td>\n",
              "      <td>1</td>\n",
              "      <td>0</td>\n",
              "    </tr>\n",
              "    <tr>\n",
              "      <th>5109</th>\n",
              "      <td>1</td>\n",
              "      <td>0</td>\n",
              "      <td>0</td>\n",
              "    </tr>\n",
              "  </tbody>\n",
              "</table>\n",
              "<p>4383 rows × 3 columns</p>\n",
              "</div>"
            ],
            "text/plain": [
              "      gender_encoded_Female  gender_encoded_Male  gender_encoded_Other\n",
              "2                         0                    1                     0\n",
              "6                         0                    1                     0\n",
              "7                         1                    0                     0\n",
              "8                         1                    0                     0\n",
              "9                         1                    0                     0\n",
              "...                     ...                  ...                   ...\n",
              "5105                      1                    0                     0\n",
              "5106                      1                    0                     0\n",
              "5107                      1                    0                     0\n",
              "5108                      0                    1                     0\n",
              "5109                      1                    0                     0\n",
              "\n",
              "[4383 rows x 3 columns]"
            ]
          },
          "metadata": {
            "tags": []
          },
          "execution_count": 131
        }
      ]
    },
    {
      "cell_type": "code",
      "metadata": {
        "colab": {
          "base_uri": "https://localhost:8080/",
          "height": 442
        },
        "id": "HfcNxlIbWWKT",
        "outputId": "bd83d376-23e5-4b00-a440-e998e6be3c0f"
      },
      "source": [
        "data['work_type'] = pd.Categorical(data['work_type'])\n",
        "dummy_work_type = pd.get_dummies(data['work_type'], prefix = 'work_type_encoded')\n",
        "dummy_work_type"
      ],
      "execution_count": 132,
      "outputs": [
        {
          "output_type": "execute_result",
          "data": {
            "text/html": [
              "<div>\n",
              "<style scoped>\n",
              "    .dataframe tbody tr th:only-of-type {\n",
              "        vertical-align: middle;\n",
              "    }\n",
              "\n",
              "    .dataframe tbody tr th {\n",
              "        vertical-align: top;\n",
              "    }\n",
              "\n",
              "    .dataframe thead th {\n",
              "        text-align: right;\n",
              "    }\n",
              "</style>\n",
              "<table border=\"1\" class=\"dataframe\">\n",
              "  <thead>\n",
              "    <tr style=\"text-align: right;\">\n",
              "      <th></th>\n",
              "      <th>work_type_encoded_Govt_job</th>\n",
              "      <th>work_type_encoded_Never_worked</th>\n",
              "      <th>work_type_encoded_Private</th>\n",
              "      <th>work_type_encoded_Self-employed</th>\n",
              "      <th>work_type_encoded_children</th>\n",
              "    </tr>\n",
              "  </thead>\n",
              "  <tbody>\n",
              "    <tr>\n",
              "      <th>2</th>\n",
              "      <td>0</td>\n",
              "      <td>0</td>\n",
              "      <td>1</td>\n",
              "      <td>0</td>\n",
              "      <td>0</td>\n",
              "    </tr>\n",
              "    <tr>\n",
              "      <th>6</th>\n",
              "      <td>0</td>\n",
              "      <td>0</td>\n",
              "      <td>1</td>\n",
              "      <td>0</td>\n",
              "      <td>0</td>\n",
              "    </tr>\n",
              "    <tr>\n",
              "      <th>7</th>\n",
              "      <td>0</td>\n",
              "      <td>0</td>\n",
              "      <td>1</td>\n",
              "      <td>0</td>\n",
              "      <td>0</td>\n",
              "    </tr>\n",
              "    <tr>\n",
              "      <th>8</th>\n",
              "      <td>0</td>\n",
              "      <td>0</td>\n",
              "      <td>1</td>\n",
              "      <td>0</td>\n",
              "      <td>0</td>\n",
              "    </tr>\n",
              "    <tr>\n",
              "      <th>9</th>\n",
              "      <td>0</td>\n",
              "      <td>0</td>\n",
              "      <td>1</td>\n",
              "      <td>0</td>\n",
              "      <td>0</td>\n",
              "    </tr>\n",
              "    <tr>\n",
              "      <th>...</th>\n",
              "      <td>...</td>\n",
              "      <td>...</td>\n",
              "      <td>...</td>\n",
              "      <td>...</td>\n",
              "      <td>...</td>\n",
              "    </tr>\n",
              "    <tr>\n",
              "      <th>5105</th>\n",
              "      <td>0</td>\n",
              "      <td>0</td>\n",
              "      <td>1</td>\n",
              "      <td>0</td>\n",
              "      <td>0</td>\n",
              "    </tr>\n",
              "    <tr>\n",
              "      <th>5106</th>\n",
              "      <td>0</td>\n",
              "      <td>0</td>\n",
              "      <td>0</td>\n",
              "      <td>1</td>\n",
              "      <td>0</td>\n",
              "    </tr>\n",
              "    <tr>\n",
              "      <th>5107</th>\n",
              "      <td>0</td>\n",
              "      <td>0</td>\n",
              "      <td>0</td>\n",
              "      <td>1</td>\n",
              "      <td>0</td>\n",
              "    </tr>\n",
              "    <tr>\n",
              "      <th>5108</th>\n",
              "      <td>0</td>\n",
              "      <td>0</td>\n",
              "      <td>1</td>\n",
              "      <td>0</td>\n",
              "      <td>0</td>\n",
              "    </tr>\n",
              "    <tr>\n",
              "      <th>5109</th>\n",
              "      <td>1</td>\n",
              "      <td>0</td>\n",
              "      <td>0</td>\n",
              "      <td>0</td>\n",
              "      <td>0</td>\n",
              "    </tr>\n",
              "  </tbody>\n",
              "</table>\n",
              "<p>4383 rows × 5 columns</p>\n",
              "</div>"
            ],
            "text/plain": [
              "      work_type_encoded_Govt_job  ...  work_type_encoded_children\n",
              "2                              0  ...                           0\n",
              "6                              0  ...                           0\n",
              "7                              0  ...                           0\n",
              "8                              0  ...                           0\n",
              "9                              0  ...                           0\n",
              "...                          ...  ...                         ...\n",
              "5105                           0  ...                           0\n",
              "5106                           0  ...                           0\n",
              "5107                           0  ...                           0\n",
              "5108                           0  ...                           0\n",
              "5109                           1  ...                           0\n",
              "\n",
              "[4383 rows x 5 columns]"
            ]
          },
          "metadata": {
            "tags": []
          },
          "execution_count": 132
        }
      ]
    },
    {
      "cell_type": "code",
      "metadata": {
        "colab": {
          "base_uri": "https://localhost:8080/",
          "height": 424
        },
        "id": "5md4EveGWfpv",
        "outputId": "45b2edba-01bd-4c9d-b90d-5a13f833d0f4"
      },
      "source": [
        "data['smoking_status'] = pd.Categorical(data['smoking_status'])\n",
        "dummy_smoking = pd.get_dummies(data['smoking_status'], prefix = 'smoking_status_encoded')\n",
        "dummy_smoking"
      ],
      "execution_count": 133,
      "outputs": [
        {
          "output_type": "execute_result",
          "data": {
            "text/html": [
              "<div>\n",
              "<style scoped>\n",
              "    .dataframe tbody tr th:only-of-type {\n",
              "        vertical-align: middle;\n",
              "    }\n",
              "\n",
              "    .dataframe tbody tr th {\n",
              "        vertical-align: top;\n",
              "    }\n",
              "\n",
              "    .dataframe thead th {\n",
              "        text-align: right;\n",
              "    }\n",
              "</style>\n",
              "<table border=\"1\" class=\"dataframe\">\n",
              "  <thead>\n",
              "    <tr style=\"text-align: right;\">\n",
              "      <th></th>\n",
              "      <th>smoking_status_encoded_Unknown</th>\n",
              "      <th>smoking_status_encoded_formerly smoked</th>\n",
              "      <th>smoking_status_encoded_never smoked</th>\n",
              "      <th>smoking_status_encoded_smokes</th>\n",
              "    </tr>\n",
              "  </thead>\n",
              "  <tbody>\n",
              "    <tr>\n",
              "      <th>2</th>\n",
              "      <td>0</td>\n",
              "      <td>0</td>\n",
              "      <td>1</td>\n",
              "      <td>0</td>\n",
              "    </tr>\n",
              "    <tr>\n",
              "      <th>6</th>\n",
              "      <td>0</td>\n",
              "      <td>0</td>\n",
              "      <td>1</td>\n",
              "      <td>0</td>\n",
              "    </tr>\n",
              "    <tr>\n",
              "      <th>7</th>\n",
              "      <td>0</td>\n",
              "      <td>0</td>\n",
              "      <td>1</td>\n",
              "      <td>0</td>\n",
              "    </tr>\n",
              "    <tr>\n",
              "      <th>8</th>\n",
              "      <td>1</td>\n",
              "      <td>0</td>\n",
              "      <td>0</td>\n",
              "      <td>0</td>\n",
              "    </tr>\n",
              "    <tr>\n",
              "      <th>9</th>\n",
              "      <td>1</td>\n",
              "      <td>0</td>\n",
              "      <td>0</td>\n",
              "      <td>0</td>\n",
              "    </tr>\n",
              "    <tr>\n",
              "      <th>...</th>\n",
              "      <td>...</td>\n",
              "      <td>...</td>\n",
              "      <td>...</td>\n",
              "      <td>...</td>\n",
              "    </tr>\n",
              "    <tr>\n",
              "      <th>5105</th>\n",
              "      <td>0</td>\n",
              "      <td>0</td>\n",
              "      <td>1</td>\n",
              "      <td>0</td>\n",
              "    </tr>\n",
              "    <tr>\n",
              "      <th>5106</th>\n",
              "      <td>0</td>\n",
              "      <td>0</td>\n",
              "      <td>1</td>\n",
              "      <td>0</td>\n",
              "    </tr>\n",
              "    <tr>\n",
              "      <th>5107</th>\n",
              "      <td>0</td>\n",
              "      <td>0</td>\n",
              "      <td>1</td>\n",
              "      <td>0</td>\n",
              "    </tr>\n",
              "    <tr>\n",
              "      <th>5108</th>\n",
              "      <td>0</td>\n",
              "      <td>1</td>\n",
              "      <td>0</td>\n",
              "      <td>0</td>\n",
              "    </tr>\n",
              "    <tr>\n",
              "      <th>5109</th>\n",
              "      <td>1</td>\n",
              "      <td>0</td>\n",
              "      <td>0</td>\n",
              "      <td>0</td>\n",
              "    </tr>\n",
              "  </tbody>\n",
              "</table>\n",
              "<p>4383 rows × 4 columns</p>\n",
              "</div>"
            ],
            "text/plain": [
              "      smoking_status_encoded_Unknown  ...  smoking_status_encoded_smokes\n",
              "2                                  0  ...                              0\n",
              "6                                  0  ...                              0\n",
              "7                                  0  ...                              0\n",
              "8                                  1  ...                              0\n",
              "9                                  1  ...                              0\n",
              "...                              ...  ...                            ...\n",
              "5105                               0  ...                              0\n",
              "5106                               0  ...                              0\n",
              "5107                               0  ...                              0\n",
              "5108                               0  ...                              0\n",
              "5109                               1  ...                              0\n",
              "\n",
              "[4383 rows x 4 columns]"
            ]
          },
          "metadata": {
            "tags": []
          },
          "execution_count": 133
        }
      ]
    },
    {
      "cell_type": "code",
      "metadata": {
        "id": "rHsILTzvXYmR"
      },
      "source": [
        "data.drop(\"gender\", axis=1, inplace=True)\n",
        "data.drop(\"smoking_status\", axis=1, inplace=True)\n",
        "data.drop(\"work_type\", axis=1, inplace=True)"
      ],
      "execution_count": 134,
      "outputs": []
    },
    {
      "cell_type": "code",
      "metadata": {
        "colab": {
          "base_uri": "https://localhost:8080/",
          "height": 207
        },
        "id": "1ywNA0_UXZcG",
        "outputId": "caa63f62-76d5-48db-b5c0-cce8ba8f69e0"
      },
      "source": [
        "data.head()"
      ],
      "execution_count": 135,
      "outputs": [
        {
          "output_type": "execute_result",
          "data": {
            "text/html": [
              "<div>\n",
              "<style scoped>\n",
              "    .dataframe tbody tr th:only-of-type {\n",
              "        vertical-align: middle;\n",
              "    }\n",
              "\n",
              "    .dataframe tbody tr th {\n",
              "        vertical-align: top;\n",
              "    }\n",
              "\n",
              "    .dataframe thead th {\n",
              "        text-align: right;\n",
              "    }\n",
              "</style>\n",
              "<table border=\"1\" class=\"dataframe\">\n",
              "  <thead>\n",
              "    <tr style=\"text-align: right;\">\n",
              "      <th></th>\n",
              "      <th>id</th>\n",
              "      <th>age</th>\n",
              "      <th>hypertension</th>\n",
              "      <th>heart_disease</th>\n",
              "      <th>ever_married</th>\n",
              "      <th>Residence_type</th>\n",
              "      <th>avg_glucose_level</th>\n",
              "      <th>bmi</th>\n",
              "      <th>stroke</th>\n",
              "    </tr>\n",
              "  </thead>\n",
              "  <tbody>\n",
              "    <tr>\n",
              "      <th>2</th>\n",
              "      <td>31112</td>\n",
              "      <td>80.0</td>\n",
              "      <td>0</td>\n",
              "      <td>1</td>\n",
              "      <td>1</td>\n",
              "      <td>0</td>\n",
              "      <td>105.92</td>\n",
              "      <td>32.500000</td>\n",
              "      <td>1</td>\n",
              "    </tr>\n",
              "    <tr>\n",
              "      <th>6</th>\n",
              "      <td>53882</td>\n",
              "      <td>74.0</td>\n",
              "      <td>1</td>\n",
              "      <td>1</td>\n",
              "      <td>1</td>\n",
              "      <td>0</td>\n",
              "      <td>70.09</td>\n",
              "      <td>27.400000</td>\n",
              "      <td>1</td>\n",
              "    </tr>\n",
              "    <tr>\n",
              "      <th>7</th>\n",
              "      <td>10434</td>\n",
              "      <td>69.0</td>\n",
              "      <td>0</td>\n",
              "      <td>0</td>\n",
              "      <td>0</td>\n",
              "      <td>1</td>\n",
              "      <td>94.39</td>\n",
              "      <td>22.800000</td>\n",
              "      <td>1</td>\n",
              "    </tr>\n",
              "    <tr>\n",
              "      <th>8</th>\n",
              "      <td>27419</td>\n",
              "      <td>59.0</td>\n",
              "      <td>0</td>\n",
              "      <td>0</td>\n",
              "      <td>1</td>\n",
              "      <td>0</td>\n",
              "      <td>76.15</td>\n",
              "      <td>28.893237</td>\n",
              "      <td>1</td>\n",
              "    </tr>\n",
              "    <tr>\n",
              "      <th>9</th>\n",
              "      <td>60491</td>\n",
              "      <td>78.0</td>\n",
              "      <td>0</td>\n",
              "      <td>0</td>\n",
              "      <td>1</td>\n",
              "      <td>1</td>\n",
              "      <td>58.57</td>\n",
              "      <td>24.200000</td>\n",
              "      <td>1</td>\n",
              "    </tr>\n",
              "  </tbody>\n",
              "</table>\n",
              "</div>"
            ],
            "text/plain": [
              "      id   age  hypertension  ...  avg_glucose_level        bmi  stroke\n",
              "2  31112  80.0             0  ...             105.92  32.500000       1\n",
              "6  53882  74.0             1  ...              70.09  27.400000       1\n",
              "7  10434  69.0             0  ...              94.39  22.800000       1\n",
              "8  27419  59.0             0  ...              76.15  28.893237       1\n",
              "9  60491  78.0             0  ...              58.57  24.200000       1\n",
              "\n",
              "[5 rows x 9 columns]"
            ]
          },
          "metadata": {
            "tags": []
          },
          "execution_count": 135
        }
      ]
    },
    {
      "cell_type": "code",
      "metadata": {
        "colab": {
          "base_uri": "https://localhost:8080/"
        },
        "id": "ZVhl8eLfYTvH",
        "outputId": "1bae061e-0629-4766-d25c-ee3f8f7158d0"
      },
      "source": [
        "data=pd.concat([data, dummy_gender], axis=1)\n",
        "data=pd.concat([data, dummy_smoking], axis=1)\n",
        "data=pd.concat([data, dummy_work_type], axis=1)\n",
        "data.columns"
      ],
      "execution_count": 136,
      "outputs": [
        {
          "output_type": "execute_result",
          "data": {
            "text/plain": [
              "Index(['id', 'age', 'hypertension', 'heart_disease', 'ever_married',\n",
              "       'Residence_type', 'avg_glucose_level', 'bmi', 'stroke',\n",
              "       'gender_encoded_Female', 'gender_encoded_Male', 'gender_encoded_Other',\n",
              "       'smoking_status_encoded_Unknown',\n",
              "       'smoking_status_encoded_formerly smoked',\n",
              "       'smoking_status_encoded_never smoked', 'smoking_status_encoded_smokes',\n",
              "       'work_type_encoded_Govt_job', 'work_type_encoded_Never_worked',\n",
              "       'work_type_encoded_Private', 'work_type_encoded_Self-employed',\n",
              "       'work_type_encoded_children'],\n",
              "      dtype='object')"
            ]
          },
          "metadata": {
            "tags": []
          },
          "execution_count": 136
        }
      ]
    },
    {
      "cell_type": "code",
      "metadata": {
        "colab": {
          "base_uri": "https://localhost:8080/"
        },
        "id": "B8laRxcgYtI0",
        "outputId": "375ce6aa-04af-4ca7-8dd7-dc075ca544f4"
      },
      "source": [
        "data.dtypes"
      ],
      "execution_count": 137,
      "outputs": [
        {
          "output_type": "execute_result",
          "data": {
            "text/plain": [
              "id                                          int64\n",
              "age                                       float64\n",
              "hypertension                                int64\n",
              "heart_disease                               int64\n",
              "ever_married                                int64\n",
              "Residence_type                              int64\n",
              "avg_glucose_level                         float64\n",
              "bmi                                       float64\n",
              "stroke                                      int64\n",
              "gender_encoded_Female                       uint8\n",
              "gender_encoded_Male                         uint8\n",
              "gender_encoded_Other                        uint8\n",
              "smoking_status_encoded_Unknown              uint8\n",
              "smoking_status_encoded_formerly smoked      uint8\n",
              "smoking_status_encoded_never smoked         uint8\n",
              "smoking_status_encoded_smokes               uint8\n",
              "work_type_encoded_Govt_job                  uint8\n",
              "work_type_encoded_Never_worked              uint8\n",
              "work_type_encoded_Private                   uint8\n",
              "work_type_encoded_Self-employed             uint8\n",
              "work_type_encoded_children                  uint8\n",
              "dtype: object"
            ]
          },
          "metadata": {
            "tags": []
          },
          "execution_count": 137
        }
      ]
    },
    {
      "cell_type": "markdown",
      "metadata": {
        "id": "qj2FvsVPYzX_"
      },
      "source": [
        "All data is numerical, ready for machine learning."
      ]
    },
    {
      "cell_type": "markdown",
      "metadata": {
        "id": "3un-CwWLZKOm"
      },
      "source": [
        "# Feature Selection"
      ]
    },
    {
      "cell_type": "code",
      "metadata": {
        "id": "auFG1-G3ZHuK"
      },
      "source": [
        "from sklearn.feature_selection import SelectKBest, chi2"
      ],
      "execution_count": 138,
      "outputs": []
    },
    {
      "cell_type": "code",
      "metadata": {
        "id": "WiMSW8JMZTzN"
      },
      "source": [
        "data.drop(\"id\", axis=1, inplace=True)"
      ],
      "execution_count": 139,
      "outputs": []
    },
    {
      "cell_type": "code",
      "metadata": {
        "id": "wWvzGwngaUN9"
      },
      "source": [
        "features = data.loc[:,data.columns !=\"stroke\"]\n",
        "target = data.loc[:,\"stroke\"]"
      ],
      "execution_count": 141,
      "outputs": []
    },
    {
      "cell_type": "code",
      "metadata": {
        "colab": {
          "base_uri": "https://localhost:8080/"
        },
        "id": "mLsPXLvIakNV",
        "outputId": "c6c734a2-d3a5-4ccb-b80d-dc580d89b7e7"
      },
      "source": [
        "print(\"Shape of features: {}\".format(features.shape))\n",
        "print(\"Shape of target: {}\".format(target.shape))"
      ],
      "execution_count": 146,
      "outputs": [
        {
          "output_type": "stream",
          "text": [
            "Shape of features: (4383, 19)\n",
            "Shape of target: (4383,)\n"
          ],
          "name": "stdout"
        }
      ]
    },
    {
      "cell_type": "code",
      "metadata": {
        "id": "qXOE_2Kvan4U"
      },
      "source": [
        "selector = SelectKBest(score_func=chi2, k=10)\n",
        "best_features = selector.fit(features, target)"
      ],
      "execution_count": 147,
      "outputs": []
    },
    {
      "cell_type": "code",
      "metadata": {
        "colab": {
          "base_uri": "https://localhost:8080/"
        },
        "id": "dSzfq7V0bWsd",
        "outputId": "132feed4-2abc-43e3-900a-b2f21cfcb16f"
      },
      "source": [
        "print(best_features.scores_)"
      ],
      "execution_count": 148,
      "outputs": [
        {
          "output_type": "stream",
          "text": [
            "[2.82532168e+03 5.23894752e+01 3.42401694e+01 1.45705770e+01\n",
            " 1.75152287e-01 3.49121622e-04 7.05163389e+00 1.74956871e-02\n",
            " 2.37136392e-02 3.88717706e-02 7.85346166e+00 1.65776736e+01\n",
            " 4.28965751e-02 4.52536062e-02 7.39428899e-03 8.55178952e-01\n",
            " 1.41142164e-03 2.29551641e+01 2.22474883e+01]\n"
          ],
          "name": "stdout"
        }
      ]
    },
    {
      "cell_type": "code",
      "metadata": {
        "colab": {
          "base_uri": "https://localhost:8080/",
          "height": 646
        },
        "id": "Ld5hDoPsbdF4",
        "outputId": "651ebb73-77e8-4810-d62c-ae84ed231672"
      },
      "source": [
        "features_df=pd.DataFrame(features.columns, columns=[\"Features\"])\n",
        "scores_df=pd.DataFrame(best_features.scores_, columns=[\"Scores\"])\n",
        "best_features_df = pd.concat([features_df, scores_df], axis=1)\n",
        "best_features_df.sort_values(by=\"Scores\", ascending=False)"
      ],
      "execution_count": 151,
      "outputs": [
        {
          "output_type": "execute_result",
          "data": {
            "text/html": [
              "<div>\n",
              "<style scoped>\n",
              "    .dataframe tbody tr th:only-of-type {\n",
              "        vertical-align: middle;\n",
              "    }\n",
              "\n",
              "    .dataframe tbody tr th {\n",
              "        vertical-align: top;\n",
              "    }\n",
              "\n",
              "    .dataframe thead th {\n",
              "        text-align: right;\n",
              "    }\n",
              "</style>\n",
              "<table border=\"1\" class=\"dataframe\">\n",
              "  <thead>\n",
              "    <tr style=\"text-align: right;\">\n",
              "      <th></th>\n",
              "      <th>Features</th>\n",
              "      <th>Scores</th>\n",
              "    </tr>\n",
              "  </thead>\n",
              "  <tbody>\n",
              "    <tr>\n",
              "      <th>0</th>\n",
              "      <td>age</td>\n",
              "      <td>2825.321683</td>\n",
              "    </tr>\n",
              "    <tr>\n",
              "      <th>1</th>\n",
              "      <td>hypertension</td>\n",
              "      <td>52.389475</td>\n",
              "    </tr>\n",
              "    <tr>\n",
              "      <th>2</th>\n",
              "      <td>heart_disease</td>\n",
              "      <td>34.240169</td>\n",
              "    </tr>\n",
              "    <tr>\n",
              "      <th>17</th>\n",
              "      <td>work_type_encoded_Self-employed</td>\n",
              "      <td>22.955164</td>\n",
              "    </tr>\n",
              "    <tr>\n",
              "      <th>18</th>\n",
              "      <td>work_type_encoded_children</td>\n",
              "      <td>22.247488</td>\n",
              "    </tr>\n",
              "    <tr>\n",
              "      <th>11</th>\n",
              "      <td>smoking_status_encoded_formerly smoked</td>\n",
              "      <td>16.577674</td>\n",
              "    </tr>\n",
              "    <tr>\n",
              "      <th>3</th>\n",
              "      <td>ever_married</td>\n",
              "      <td>14.570577</td>\n",
              "    </tr>\n",
              "    <tr>\n",
              "      <th>10</th>\n",
              "      <td>smoking_status_encoded_Unknown</td>\n",
              "      <td>7.853462</td>\n",
              "    </tr>\n",
              "    <tr>\n",
              "      <th>6</th>\n",
              "      <td>bmi</td>\n",
              "      <td>7.051634</td>\n",
              "    </tr>\n",
              "    <tr>\n",
              "      <th>15</th>\n",
              "      <td>work_type_encoded_Never_worked</td>\n",
              "      <td>0.855179</td>\n",
              "    </tr>\n",
              "    <tr>\n",
              "      <th>4</th>\n",
              "      <td>Residence_type</td>\n",
              "      <td>0.175152</td>\n",
              "    </tr>\n",
              "    <tr>\n",
              "      <th>13</th>\n",
              "      <td>smoking_status_encoded_smokes</td>\n",
              "      <td>0.045254</td>\n",
              "    </tr>\n",
              "    <tr>\n",
              "      <th>12</th>\n",
              "      <td>smoking_status_encoded_never smoked</td>\n",
              "      <td>0.042897</td>\n",
              "    </tr>\n",
              "    <tr>\n",
              "      <th>9</th>\n",
              "      <td>gender_encoded_Other</td>\n",
              "      <td>0.038872</td>\n",
              "    </tr>\n",
              "    <tr>\n",
              "      <th>8</th>\n",
              "      <td>gender_encoded_Male</td>\n",
              "      <td>0.023714</td>\n",
              "    </tr>\n",
              "    <tr>\n",
              "      <th>7</th>\n",
              "      <td>gender_encoded_Female</td>\n",
              "      <td>0.017496</td>\n",
              "    </tr>\n",
              "    <tr>\n",
              "      <th>14</th>\n",
              "      <td>work_type_encoded_Govt_job</td>\n",
              "      <td>0.007394</td>\n",
              "    </tr>\n",
              "    <tr>\n",
              "      <th>16</th>\n",
              "      <td>work_type_encoded_Private</td>\n",
              "      <td>0.001411</td>\n",
              "    </tr>\n",
              "    <tr>\n",
              "      <th>5</th>\n",
              "      <td>avg_glucose_level</td>\n",
              "      <td>0.000349</td>\n",
              "    </tr>\n",
              "  </tbody>\n",
              "</table>\n",
              "</div>"
            ],
            "text/plain": [
              "                                  Features       Scores\n",
              "0                                      age  2825.321683\n",
              "1                             hypertension    52.389475\n",
              "2                            heart_disease    34.240169\n",
              "17         work_type_encoded_Self-employed    22.955164\n",
              "18              work_type_encoded_children    22.247488\n",
              "11  smoking_status_encoded_formerly smoked    16.577674\n",
              "3                             ever_married    14.570577\n",
              "10          smoking_status_encoded_Unknown     7.853462\n",
              "6                                      bmi     7.051634\n",
              "15          work_type_encoded_Never_worked     0.855179\n",
              "4                           Residence_type     0.175152\n",
              "13           smoking_status_encoded_smokes     0.045254\n",
              "12     smoking_status_encoded_never smoked     0.042897\n",
              "9                     gender_encoded_Other     0.038872\n",
              "8                      gender_encoded_Male     0.023714\n",
              "7                    gender_encoded_Female     0.017496\n",
              "14              work_type_encoded_Govt_job     0.007394\n",
              "16               work_type_encoded_Private     0.001411\n",
              "5                        avg_glucose_level     0.000349"
            ]
          },
          "metadata": {
            "tags": []
          },
          "execution_count": 151
        }
      ]
    },
    {
      "cell_type": "code",
      "metadata": {
        "colab": {
          "base_uri": "https://localhost:8080/",
          "height": 144
        },
        "id": "T8OyDa6gcRJC",
        "outputId": "d8177d5f-5b12-4b3b-f667-89da4e84d7c0"
      },
      "source": [
        "best_features_df.nlargest(3, \"Scores\")"
      ],
      "execution_count": 152,
      "outputs": [
        {
          "output_type": "execute_result",
          "data": {
            "text/html": [
              "<div>\n",
              "<style scoped>\n",
              "    .dataframe tbody tr th:only-of-type {\n",
              "        vertical-align: middle;\n",
              "    }\n",
              "\n",
              "    .dataframe tbody tr th {\n",
              "        vertical-align: top;\n",
              "    }\n",
              "\n",
              "    .dataframe thead th {\n",
              "        text-align: right;\n",
              "    }\n",
              "</style>\n",
              "<table border=\"1\" class=\"dataframe\">\n",
              "  <thead>\n",
              "    <tr style=\"text-align: right;\">\n",
              "      <th></th>\n",
              "      <th>Features</th>\n",
              "      <th>Scores</th>\n",
              "    </tr>\n",
              "  </thead>\n",
              "  <tbody>\n",
              "    <tr>\n",
              "      <th>0</th>\n",
              "      <td>age</td>\n",
              "      <td>2825.321683</td>\n",
              "    </tr>\n",
              "    <tr>\n",
              "      <th>1</th>\n",
              "      <td>hypertension</td>\n",
              "      <td>52.389475</td>\n",
              "    </tr>\n",
              "    <tr>\n",
              "      <th>2</th>\n",
              "      <td>heart_disease</td>\n",
              "      <td>34.240169</td>\n",
              "    </tr>\n",
              "  </tbody>\n",
              "</table>\n",
              "</div>"
            ],
            "text/plain": [
              "        Features       Scores\n",
              "0            age  2825.321683\n",
              "1   hypertension    52.389475\n",
              "2  heart_disease    34.240169"
            ]
          },
          "metadata": {
            "tags": []
          },
          "execution_count": 152
        }
      ]
    },
    {
      "cell_type": "markdown",
      "metadata": {
        "id": "PZsdbW5rcee8"
      },
      "source": [
        "Feature Importance"
      ]
    },
    {
      "cell_type": "code",
      "metadata": {
        "id": "sYonWn_5cguY"
      },
      "source": [
        "from sklearn.ensemble import ExtraTreesClassifier"
      ],
      "execution_count": 153,
      "outputs": []
    },
    {
      "cell_type": "code",
      "metadata": {
        "colab": {
          "base_uri": "https://localhost:8080/"
        },
        "id": "XhKDlrfycjTt",
        "outputId": "9f93e0c4-f061-46bd-9e98-b471d731c832"
      },
      "source": [
        "et_clf = ExtraTreesClassifier()\n",
        "et_clf.fit(features, target)"
      ],
      "execution_count": 154,
      "outputs": [
        {
          "output_type": "execute_result",
          "data": {
            "text/plain": [
              "ExtraTreesClassifier(bootstrap=False, ccp_alpha=0.0, class_weight=None,\n",
              "                     criterion='gini', max_depth=None, max_features='auto',\n",
              "                     max_leaf_nodes=None, max_samples=None,\n",
              "                     min_impurity_decrease=0.0, min_impurity_split=None,\n",
              "                     min_samples_leaf=1, min_samples_split=2,\n",
              "                     min_weight_fraction_leaf=0.0, n_estimators=100,\n",
              "                     n_jobs=None, oob_score=False, random_state=None, verbose=0,\n",
              "                     warm_start=False)"
            ]
          },
          "metadata": {
            "tags": []
          },
          "execution_count": 154
        }
      ]
    },
    {
      "cell_type": "code",
      "metadata": {
        "colab": {
          "base_uri": "https://localhost:8080/",
          "height": 646
        },
        "id": "uoJIlNxrcnP7",
        "outputId": "df3ee127-26de-4fd1-fcaa-6e9d64194a62"
      },
      "source": [
        "feature_impo = et_clf.feature_importances_\n",
        "importance_df = pd.DataFrame(feature_impo, columns=[\"Importance\"])\n",
        "feature_importance_df = pd.concat([features_df, importance_df], axis=1)\n",
        "feature_importance_df.sort_values(by=\"Importance\", ascending=False)"
      ],
      "execution_count": 157,
      "outputs": [
        {
          "output_type": "execute_result",
          "data": {
            "text/html": [
              "<div>\n",
              "<style scoped>\n",
              "    .dataframe tbody tr th:only-of-type {\n",
              "        vertical-align: middle;\n",
              "    }\n",
              "\n",
              "    .dataframe tbody tr th {\n",
              "        vertical-align: top;\n",
              "    }\n",
              "\n",
              "    .dataframe thead th {\n",
              "        text-align: right;\n",
              "    }\n",
              "</style>\n",
              "<table border=\"1\" class=\"dataframe\">\n",
              "  <thead>\n",
              "    <tr style=\"text-align: right;\">\n",
              "      <th></th>\n",
              "      <th>Features</th>\n",
              "      <th>Importance</th>\n",
              "    </tr>\n",
              "  </thead>\n",
              "  <tbody>\n",
              "    <tr>\n",
              "      <th>0</th>\n",
              "      <td>age</td>\n",
              "      <td>2.730382e-01</td>\n",
              "    </tr>\n",
              "    <tr>\n",
              "      <th>5</th>\n",
              "      <td>avg_glucose_level</td>\n",
              "      <td>2.602295e-01</td>\n",
              "    </tr>\n",
              "    <tr>\n",
              "      <th>6</th>\n",
              "      <td>bmi</td>\n",
              "      <td>2.326687e-01</td>\n",
              "    </tr>\n",
              "    <tr>\n",
              "      <th>4</th>\n",
              "      <td>Residence_type</td>\n",
              "      <td>4.178681e-02</td>\n",
              "    </tr>\n",
              "    <tr>\n",
              "      <th>1</th>\n",
              "      <td>hypertension</td>\n",
              "      <td>2.626426e-02</td>\n",
              "    </tr>\n",
              "    <tr>\n",
              "      <th>3</th>\n",
              "      <td>ever_married</td>\n",
              "      <td>2.036890e-02</td>\n",
              "    </tr>\n",
              "    <tr>\n",
              "      <th>2</th>\n",
              "      <td>heart_disease</td>\n",
              "      <td>1.801550e-02</td>\n",
              "    </tr>\n",
              "    <tr>\n",
              "      <th>8</th>\n",
              "      <td>gender_encoded_Male</td>\n",
              "      <td>1.616691e-02</td>\n",
              "    </tr>\n",
              "    <tr>\n",
              "      <th>12</th>\n",
              "      <td>smoking_status_encoded_never smoked</td>\n",
              "      <td>1.594881e-02</td>\n",
              "    </tr>\n",
              "    <tr>\n",
              "      <th>7</th>\n",
              "      <td>gender_encoded_Female</td>\n",
              "      <td>1.589175e-02</td>\n",
              "    </tr>\n",
              "    <tr>\n",
              "      <th>11</th>\n",
              "      <td>smoking_status_encoded_formerly smoked</td>\n",
              "      <td>1.503681e-02</td>\n",
              "    </tr>\n",
              "    <tr>\n",
              "      <th>13</th>\n",
              "      <td>smoking_status_encoded_smokes</td>\n",
              "      <td>1.411225e-02</td>\n",
              "    </tr>\n",
              "    <tr>\n",
              "      <th>16</th>\n",
              "      <td>work_type_encoded_Private</td>\n",
              "      <td>1.358579e-02</td>\n",
              "    </tr>\n",
              "    <tr>\n",
              "      <th>10</th>\n",
              "      <td>smoking_status_encoded_Unknown</td>\n",
              "      <td>1.241121e-02</td>\n",
              "    </tr>\n",
              "    <tr>\n",
              "      <th>17</th>\n",
              "      <td>work_type_encoded_Self-employed</td>\n",
              "      <td>1.221626e-02</td>\n",
              "    </tr>\n",
              "    <tr>\n",
              "      <th>14</th>\n",
              "      <td>work_type_encoded_Govt_job</td>\n",
              "      <td>1.088008e-02</td>\n",
              "    </tr>\n",
              "    <tr>\n",
              "      <th>18</th>\n",
              "      <td>work_type_encoded_children</td>\n",
              "      <td>1.350257e-03</td>\n",
              "    </tr>\n",
              "    <tr>\n",
              "      <th>15</th>\n",
              "      <td>work_type_encoded_Never_worked</td>\n",
              "      <td>2.749009e-05</td>\n",
              "    </tr>\n",
              "    <tr>\n",
              "      <th>9</th>\n",
              "      <td>gender_encoded_Other</td>\n",
              "      <td>4.872276e-07</td>\n",
              "    </tr>\n",
              "  </tbody>\n",
              "</table>\n",
              "</div>"
            ],
            "text/plain": [
              "                                  Features    Importance\n",
              "0                                      age  2.730382e-01\n",
              "5                        avg_glucose_level  2.602295e-01\n",
              "6                                      bmi  2.326687e-01\n",
              "4                           Residence_type  4.178681e-02\n",
              "1                             hypertension  2.626426e-02\n",
              "3                             ever_married  2.036890e-02\n",
              "2                            heart_disease  1.801550e-02\n",
              "8                      gender_encoded_Male  1.616691e-02\n",
              "12     smoking_status_encoded_never smoked  1.594881e-02\n",
              "7                    gender_encoded_Female  1.589175e-02\n",
              "11  smoking_status_encoded_formerly smoked  1.503681e-02\n",
              "13           smoking_status_encoded_smokes  1.411225e-02\n",
              "16               work_type_encoded_Private  1.358579e-02\n",
              "10          smoking_status_encoded_Unknown  1.241121e-02\n",
              "17         work_type_encoded_Self-employed  1.221626e-02\n",
              "14              work_type_encoded_Govt_job  1.088008e-02\n",
              "18              work_type_encoded_children  1.350257e-03\n",
              "15          work_type_encoded_Never_worked  2.749009e-05\n",
              "9                     gender_encoded_Other  4.872276e-07"
            ]
          },
          "metadata": {
            "tags": []
          },
          "execution_count": 157
        }
      ]
    },
    {
      "cell_type": "code",
      "metadata": {
        "colab": {
          "base_uri": "https://localhost:8080/",
          "height": 144
        },
        "id": "UMUBbHZfdTRB",
        "outputId": "361838e9-caf3-49f7-8611-c4932ba6106c"
      },
      "source": [
        "feature_importance_df.nlargest(3, \"Importance\")"
      ],
      "execution_count": 158,
      "outputs": [
        {
          "output_type": "execute_result",
          "data": {
            "text/html": [
              "<div>\n",
              "<style scoped>\n",
              "    .dataframe tbody tr th:only-of-type {\n",
              "        vertical-align: middle;\n",
              "    }\n",
              "\n",
              "    .dataframe tbody tr th {\n",
              "        vertical-align: top;\n",
              "    }\n",
              "\n",
              "    .dataframe thead th {\n",
              "        text-align: right;\n",
              "    }\n",
              "</style>\n",
              "<table border=\"1\" class=\"dataframe\">\n",
              "  <thead>\n",
              "    <tr style=\"text-align: right;\">\n",
              "      <th></th>\n",
              "      <th>Features</th>\n",
              "      <th>Importance</th>\n",
              "    </tr>\n",
              "  </thead>\n",
              "  <tbody>\n",
              "    <tr>\n",
              "      <th>0</th>\n",
              "      <td>age</td>\n",
              "      <td>0.273038</td>\n",
              "    </tr>\n",
              "    <tr>\n",
              "      <th>5</th>\n",
              "      <td>avg_glucose_level</td>\n",
              "      <td>0.260230</td>\n",
              "    </tr>\n",
              "    <tr>\n",
              "      <th>6</th>\n",
              "      <td>bmi</td>\n",
              "      <td>0.232669</td>\n",
              "    </tr>\n",
              "  </tbody>\n",
              "</table>\n",
              "</div>"
            ],
            "text/plain": [
              "            Features  Importance\n",
              "0                age    0.273038\n",
              "5  avg_glucose_level    0.260230\n",
              "6                bmi    0.232669"
            ]
          },
          "metadata": {
            "tags": []
          },
          "execution_count": 158
        }
      ]
    },
    {
      "cell_type": "markdown",
      "metadata": {
        "id": "2Twq1J0Ydvhe"
      },
      "source": [
        "# Building a Model"
      ]
    },
    {
      "cell_type": "code",
      "metadata": {
        "id": "4khdeLgDd7Z9"
      },
      "source": [
        "from sklearn.linear_model import LogisticRegression\n",
        "from sklearn.ensemble import RandomForestClassifier\n",
        "from sklearn.tree import DecisionTreeClassifier\n",
        "from sklearn.metrics import accuracy_score\n",
        "from sklearn.model_selection import train_test_split"
      ],
      "execution_count": 159,
      "outputs": []
    },
    {
      "cell_type": "code",
      "metadata": {
        "colab": {
          "base_uri": "https://localhost:8080/"
        },
        "id": "5e3t98WveZyU",
        "outputId": "9b7b20de-0d8c-481e-ccd2-5263c3907a92"
      },
      "source": [
        "# pick selected feature or the feature with high importance\n",
        "best_features = feature_importance_df.nlargest(7, \"Importance\")[\"Features\"].unique()\n",
        "best_features"
      ],
      "execution_count": 165,
      "outputs": [
        {
          "output_type": "execute_result",
          "data": {
            "text/plain": [
              "array(['age', 'avg_glucose_level', 'bmi', 'Residence_type',\n",
              "       'hypertension', 'ever_married', 'heart_disease'], dtype=object)"
            ]
          },
          "metadata": {
            "tags": []
          },
          "execution_count": 165
        }
      ]
    },
    {
      "cell_type": "code",
      "metadata": {
        "colab": {
          "base_uri": "https://localhost:8080/"
        },
        "id": "a9I1WN_WgRR0",
        "outputId": "c52fec86-c97c-4262-9341-a89e91b40532"
      },
      "source": [
        "features_selected = data[['age', 'avg_glucose_level', 'bmi', 'Residence_type','hypertension', 'ever_married', 'heart_disease']]\n",
        "print(features_selected)"
      ],
      "execution_count": 169,
      "outputs": [
        {
          "output_type": "stream",
          "text": [
            "       age  avg_glucose_level  ...  ever_married  heart_disease\n",
            "2     80.0             105.92  ...             1              1\n",
            "6     74.0              70.09  ...             1              1\n",
            "7     69.0              94.39  ...             0              0\n",
            "8     59.0              76.15  ...             1              0\n",
            "9     78.0              58.57  ...             1              0\n",
            "...    ...                ...  ...           ...            ...\n",
            "5105  80.0              83.75  ...             1              0\n",
            "5106  81.0             125.20  ...             1              0\n",
            "5107  35.0              82.99  ...             1              0\n",
            "5108  51.0             166.29  ...             1              0\n",
            "5109  44.0              85.28  ...             1              0\n",
            "\n",
            "[4383 rows x 7 columns]\n"
          ],
          "name": "stdout"
        }
      ]
    },
    {
      "cell_type": "code",
      "metadata": {
        "id": "Zm6aSQtOgobA"
      },
      "source": [
        "# data using selected fatures\n",
        "X_train_sel, X_test_sel, y_train_sel, y_test_sel = train_test_split(features_selected, target, test_size=0.2, random_state=0)"
      ],
      "execution_count": 172,
      "outputs": []
    },
    {
      "cell_type": "code",
      "metadata": {
        "id": "680zeouIhEOP"
      },
      "source": [
        "# data using all features\n",
        "X_train, X_test, y_train, y_test = train_test_split(features, target, test_size=0.2, random_state=0)"
      ],
      "execution_count": 173,
      "outputs": []
    }
  ]
}
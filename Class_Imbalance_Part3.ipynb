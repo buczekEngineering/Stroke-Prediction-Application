{
  "nbformat": 4,
  "nbformat_minor": 0,
  "metadata": {
    "colab": {
      "name": "Class-Imbalance-Part3.ipynb",
      "provenance": [],
      "include_colab_link": true
    },
    "kernelspec": {
      "name": "python3",
      "display_name": "Python 3"
    },
    "language_info": {
      "name": "python"
    },
    "accelerator": "GPU"
  },
  "cells": [
    {
      "cell_type": "markdown",
      "metadata": {
        "id": "view-in-github",
        "colab_type": "text"
      },
      "source": [
        "<a href=\"https://colab.research.google.com/github/buczekEngineering/Stroke-Prediction-Application/blob/main/Class_Imbalance_Part3.ipynb\" target=\"_parent\"><img src=\"https://colab.research.google.com/assets/colab-badge.svg\" alt=\"Open In Colab\"/></a>"
      ]
    },
    {
      "cell_type": "markdown",
      "metadata": {
        "id": "_ipeStKa-VKn"
      },
      "source": [
        "##Data Science Project Workflow\n",
        "\n",
        "+ Solving Class Imbalance Problem \n",
        "+ Re-training the models \n",
        "+ Training the model using Ensamble Algorithms \n",
        "+ Training the model using Neural Networks "
      ]
    },
    {
      "cell_type": "code",
      "metadata": {
        "id": "GS4X1bHp_MI4"
      },
      "source": [
        "import numpy as np \n",
        "import pandas as pd\n",
        "import matplotlib.pyplot as plt\n",
        "import plotly.graph_objects as go\n",
        "\n",
        "from google.colab import drive"
      ],
      "execution_count": 1,
      "outputs": []
    },
    {
      "cell_type": "code",
      "metadata": {
        "colab": {
          "base_uri": "https://localhost:8080/"
        },
        "id": "f332A-zX_OJK",
        "outputId": "5edb49ed-d7d7-4a00-df2c-88bd713846fe"
      },
      "source": [
        "drive.mount(\"/content/drive\")"
      ],
      "execution_count": 2,
      "outputs": [
        {
          "output_type": "stream",
          "text": [
            "Mounted at /content/drive\n"
          ],
          "name": "stdout"
        }
      ]
    },
    {
      "cell_type": "code",
      "metadata": {
        "colab": {
          "base_uri": "https://localhost:8080/"
        },
        "id": "4GHcWjhD_V6D",
        "outputId": "a4bc95da-051e-4971-e7f9-13e8361e7707"
      },
      "source": [
        "data = pd.read_csv(\"/content/drive/MyDrive/Stroke_Prediction/num_selected_data_stroke.csv\")\n",
        "data.columns"
      ],
      "execution_count": 3,
      "outputs": [
        {
          "output_type": "execute_result",
          "data": {
            "text/plain": [
              "Index(['Unnamed: 0', 'age', 'avg_glucose_level', 'bmi', 'Residence_type',\n",
              "       'hypertension', 'ever_married', 'heart_disease', 'stroke'],\n",
              "      dtype='object')"
            ]
          },
          "metadata": {
            "tags": []
          },
          "execution_count": 3
        }
      ]
    },
    {
      "cell_type": "code",
      "metadata": {
        "colab": {
          "base_uri": "https://localhost:8080/",
          "height": 206
        },
        "id": "5IndBjv0_ydD",
        "outputId": "da34ce93-4c1a-474c-c805-d82e3e78dcbf"
      },
      "source": [
        "data.drop(columns= 'Unnamed: 0', axis=1, inplace=True)\n",
        "data.head()"
      ],
      "execution_count": 4,
      "outputs": [
        {
          "output_type": "execute_result",
          "data": {
            "text/html": [
              "<div>\n",
              "<style scoped>\n",
              "    .dataframe tbody tr th:only-of-type {\n",
              "        vertical-align: middle;\n",
              "    }\n",
              "\n",
              "    .dataframe tbody tr th {\n",
              "        vertical-align: top;\n",
              "    }\n",
              "\n",
              "    .dataframe thead th {\n",
              "        text-align: right;\n",
              "    }\n",
              "</style>\n",
              "<table border=\"1\" class=\"dataframe\">\n",
              "  <thead>\n",
              "    <tr style=\"text-align: right;\">\n",
              "      <th></th>\n",
              "      <th>age</th>\n",
              "      <th>avg_glucose_level</th>\n",
              "      <th>bmi</th>\n",
              "      <th>Residence_type</th>\n",
              "      <th>hypertension</th>\n",
              "      <th>ever_married</th>\n",
              "      <th>heart_disease</th>\n",
              "      <th>stroke</th>\n",
              "    </tr>\n",
              "  </thead>\n",
              "  <tbody>\n",
              "    <tr>\n",
              "      <th>0</th>\n",
              "      <td>80.0</td>\n",
              "      <td>68.56</td>\n",
              "      <td>26.2</td>\n",
              "      <td>1</td>\n",
              "      <td>1</td>\n",
              "      <td>1</td>\n",
              "      <td>0</td>\n",
              "      <td>1</td>\n",
              "    </tr>\n",
              "    <tr>\n",
              "      <th>1</th>\n",
              "      <td>39.0</td>\n",
              "      <td>62.02</td>\n",
              "      <td>23.7</td>\n",
              "      <td>1</td>\n",
              "      <td>0</td>\n",
              "      <td>1</td>\n",
              "      <td>0</td>\n",
              "      <td>0</td>\n",
              "    </tr>\n",
              "    <tr>\n",
              "      <th>2</th>\n",
              "      <td>13.0</td>\n",
              "      <td>78.38</td>\n",
              "      <td>38.7</td>\n",
              "      <td>0</td>\n",
              "      <td>0</td>\n",
              "      <td>0</td>\n",
              "      <td>0</td>\n",
              "      <td>0</td>\n",
              "    </tr>\n",
              "    <tr>\n",
              "      <th>3</th>\n",
              "      <td>49.0</td>\n",
              "      <td>61.57</td>\n",
              "      <td>37.9</td>\n",
              "      <td>0</td>\n",
              "      <td>0</td>\n",
              "      <td>1</td>\n",
              "      <td>0</td>\n",
              "      <td>0</td>\n",
              "    </tr>\n",
              "    <tr>\n",
              "      <th>4</th>\n",
              "      <td>58.0</td>\n",
              "      <td>96.01</td>\n",
              "      <td>33.8</td>\n",
              "      <td>0</td>\n",
              "      <td>0</td>\n",
              "      <td>1</td>\n",
              "      <td>0</td>\n",
              "      <td>0</td>\n",
              "    </tr>\n",
              "  </tbody>\n",
              "</table>\n",
              "</div>"
            ],
            "text/plain": [
              "    age  avg_glucose_level   bmi  ...  ever_married  heart_disease  stroke\n",
              "0  80.0              68.56  26.2  ...             1              0       1\n",
              "1  39.0              62.02  23.7  ...             1              0       0\n",
              "2  13.0              78.38  38.7  ...             0              0       0\n",
              "3  49.0              61.57  37.9  ...             1              0       0\n",
              "4  58.0              96.01  33.8  ...             1              0       0\n",
              "\n",
              "[5 rows x 8 columns]"
            ]
          },
          "metadata": {
            "tags": []
          },
          "execution_count": 4
        }
      ]
    },
    {
      "cell_type": "code",
      "metadata": {
        "id": "KGbH9IJDCXyG"
      },
      "source": [
        "data_len = len(data)\n",
        "stroke_len = len(data[data[\"stroke\"]==1])\n",
        "heathy_len = data_len - stroke_len"
      ],
      "execution_count": 5,
      "outputs": []
    },
    {
      "cell_type": "code",
      "metadata": {
        "colab": {
          "base_uri": "https://localhost:8080/",
          "height": 542
        },
        "id": "crAZCHlsCs4r",
        "outputId": "3622b174-648f-468c-f11f-319758868937"
      },
      "source": [
        "import plotly.graph_objects as go\n",
        "\n",
        "targets = [\"stroke\", \"healthy\"]\n",
        "values = [stroke_len, heathy_len]\n",
        "\n",
        "fig = go.Figure(data=[go.Pie(labels=targets,values=values, hole=.3)])\n",
        "fig.show()"
      ],
      "execution_count": 6,
      "outputs": [
        {
          "output_type": "display_data",
          "data": {
            "text/html": [
              "<html>\n",
              "<head><meta charset=\"utf-8\" /></head>\n",
              "<body>\n",
              "    <div>\n",
              "            <script src=\"https://cdnjs.cloudflare.com/ajax/libs/mathjax/2.7.5/MathJax.js?config=TeX-AMS-MML_SVG\"></script><script type=\"text/javascript\">if (window.MathJax) {MathJax.Hub.Config({SVG: {font: \"STIX-Web\"}});}</script>\n",
              "                <script type=\"text/javascript\">window.PlotlyConfig = {MathJaxConfig: 'local'};</script>\n",
              "        <script src=\"https://cdn.plot.ly/plotly-latest.min.js\"></script>    \n",
              "            <div id=\"1fd0f7e3-ce24-479d-b99b-490d9fef5d2f\" class=\"plotly-graph-div\" style=\"height:525px; width:100%;\"></div>\n",
              "            <script type=\"text/javascript\">\n",
              "                \n",
              "                    window.PLOTLYENV=window.PLOTLYENV || {};\n",
              "                    \n",
              "                if (document.getElementById(\"1fd0f7e3-ce24-479d-b99b-490d9fef5d2f\")) {\n",
              "                    Plotly.newPlot(\n",
              "                        '1fd0f7e3-ce24-479d-b99b-490d9fef5d2f',\n",
              "                        [{\"hole\": 0.3, \"labels\": [\"stroke\", \"healthy\"], \"type\": \"pie\", \"values\": [164, 4219]}],\n",
              "                        {\"template\": {\"data\": {\"bar\": [{\"error_x\": {\"color\": \"#2a3f5f\"}, \"error_y\": {\"color\": \"#2a3f5f\"}, \"marker\": {\"line\": {\"color\": \"#E5ECF6\", \"width\": 0.5}}, \"type\": \"bar\"}], \"barpolar\": [{\"marker\": {\"line\": {\"color\": \"#E5ECF6\", \"width\": 0.5}}, \"type\": \"barpolar\"}], \"carpet\": [{\"aaxis\": {\"endlinecolor\": \"#2a3f5f\", \"gridcolor\": \"white\", \"linecolor\": \"white\", \"minorgridcolor\": \"white\", \"startlinecolor\": \"#2a3f5f\"}, \"baxis\": {\"endlinecolor\": \"#2a3f5f\", \"gridcolor\": \"white\", \"linecolor\": \"white\", \"minorgridcolor\": \"white\", \"startlinecolor\": \"#2a3f5f\"}, \"type\": \"carpet\"}], \"choropleth\": [{\"colorbar\": {\"outlinewidth\": 0, \"ticks\": \"\"}, \"type\": \"choropleth\"}], \"contour\": [{\"colorbar\": {\"outlinewidth\": 0, \"ticks\": \"\"}, \"colorscale\": [[0.0, \"#0d0887\"], [0.1111111111111111, \"#46039f\"], [0.2222222222222222, \"#7201a8\"], [0.3333333333333333, \"#9c179e\"], [0.4444444444444444, \"#bd3786\"], [0.5555555555555556, \"#d8576b\"], [0.6666666666666666, \"#ed7953\"], [0.7777777777777778, \"#fb9f3a\"], [0.8888888888888888, \"#fdca26\"], [1.0, \"#f0f921\"]], \"type\": \"contour\"}], \"contourcarpet\": [{\"colorbar\": {\"outlinewidth\": 0, \"ticks\": \"\"}, \"type\": \"contourcarpet\"}], \"heatmap\": [{\"colorbar\": {\"outlinewidth\": 0, \"ticks\": \"\"}, \"colorscale\": [[0.0, \"#0d0887\"], [0.1111111111111111, \"#46039f\"], [0.2222222222222222, \"#7201a8\"], [0.3333333333333333, \"#9c179e\"], [0.4444444444444444, \"#bd3786\"], [0.5555555555555556, \"#d8576b\"], [0.6666666666666666, \"#ed7953\"], [0.7777777777777778, \"#fb9f3a\"], [0.8888888888888888, \"#fdca26\"], [1.0, \"#f0f921\"]], \"type\": \"heatmap\"}], \"heatmapgl\": [{\"colorbar\": {\"outlinewidth\": 0, \"ticks\": \"\"}, \"colorscale\": [[0.0, \"#0d0887\"], [0.1111111111111111, \"#46039f\"], [0.2222222222222222, \"#7201a8\"], [0.3333333333333333, \"#9c179e\"], [0.4444444444444444, \"#bd3786\"], [0.5555555555555556, \"#d8576b\"], [0.6666666666666666, \"#ed7953\"], [0.7777777777777778, \"#fb9f3a\"], [0.8888888888888888, \"#fdca26\"], [1.0, \"#f0f921\"]], \"type\": \"heatmapgl\"}], \"histogram\": [{\"marker\": {\"colorbar\": {\"outlinewidth\": 0, \"ticks\": \"\"}}, \"type\": \"histogram\"}], \"histogram2d\": [{\"colorbar\": {\"outlinewidth\": 0, \"ticks\": \"\"}, \"colorscale\": [[0.0, \"#0d0887\"], [0.1111111111111111, \"#46039f\"], [0.2222222222222222, \"#7201a8\"], [0.3333333333333333, \"#9c179e\"], [0.4444444444444444, \"#bd3786\"], [0.5555555555555556, \"#d8576b\"], [0.6666666666666666, \"#ed7953\"], [0.7777777777777778, \"#fb9f3a\"], [0.8888888888888888, \"#fdca26\"], [1.0, \"#f0f921\"]], \"type\": \"histogram2d\"}], \"histogram2dcontour\": [{\"colorbar\": {\"outlinewidth\": 0, \"ticks\": \"\"}, \"colorscale\": [[0.0, \"#0d0887\"], [0.1111111111111111, \"#46039f\"], [0.2222222222222222, \"#7201a8\"], [0.3333333333333333, \"#9c179e\"], [0.4444444444444444, \"#bd3786\"], [0.5555555555555556, \"#d8576b\"], [0.6666666666666666, \"#ed7953\"], [0.7777777777777778, \"#fb9f3a\"], [0.8888888888888888, \"#fdca26\"], [1.0, \"#f0f921\"]], \"type\": \"histogram2dcontour\"}], \"mesh3d\": [{\"colorbar\": {\"outlinewidth\": 0, \"ticks\": \"\"}, \"type\": \"mesh3d\"}], \"parcoords\": [{\"line\": {\"colorbar\": {\"outlinewidth\": 0, \"ticks\": \"\"}}, \"type\": \"parcoords\"}], \"pie\": [{\"automargin\": true, \"type\": \"pie\"}], \"scatter\": [{\"marker\": {\"colorbar\": {\"outlinewidth\": 0, \"ticks\": \"\"}}, \"type\": \"scatter\"}], \"scatter3d\": [{\"line\": {\"colorbar\": {\"outlinewidth\": 0, \"ticks\": \"\"}}, \"marker\": {\"colorbar\": {\"outlinewidth\": 0, \"ticks\": \"\"}}, \"type\": \"scatter3d\"}], \"scattercarpet\": [{\"marker\": {\"colorbar\": {\"outlinewidth\": 0, \"ticks\": \"\"}}, \"type\": \"scattercarpet\"}], \"scattergeo\": [{\"marker\": {\"colorbar\": {\"outlinewidth\": 0, \"ticks\": \"\"}}, \"type\": \"scattergeo\"}], \"scattergl\": [{\"marker\": {\"colorbar\": {\"outlinewidth\": 0, \"ticks\": \"\"}}, \"type\": \"scattergl\"}], \"scattermapbox\": [{\"marker\": {\"colorbar\": {\"outlinewidth\": 0, \"ticks\": \"\"}}, \"type\": \"scattermapbox\"}], \"scatterpolar\": [{\"marker\": {\"colorbar\": {\"outlinewidth\": 0, \"ticks\": \"\"}}, \"type\": \"scatterpolar\"}], \"scatterpolargl\": [{\"marker\": {\"colorbar\": {\"outlinewidth\": 0, \"ticks\": \"\"}}, \"type\": \"scatterpolargl\"}], \"scatterternary\": [{\"marker\": {\"colorbar\": {\"outlinewidth\": 0, \"ticks\": \"\"}}, \"type\": \"scatterternary\"}], \"surface\": [{\"colorbar\": {\"outlinewidth\": 0, \"ticks\": \"\"}, \"colorscale\": [[0.0, \"#0d0887\"], [0.1111111111111111, \"#46039f\"], [0.2222222222222222, \"#7201a8\"], [0.3333333333333333, \"#9c179e\"], [0.4444444444444444, \"#bd3786\"], [0.5555555555555556, \"#d8576b\"], [0.6666666666666666, \"#ed7953\"], [0.7777777777777778, \"#fb9f3a\"], [0.8888888888888888, \"#fdca26\"], [1.0, \"#f0f921\"]], \"type\": \"surface\"}], \"table\": [{\"cells\": {\"fill\": {\"color\": \"#EBF0F8\"}, \"line\": {\"color\": \"white\"}}, \"header\": {\"fill\": {\"color\": \"#C8D4E3\"}, \"line\": {\"color\": \"white\"}}, \"type\": \"table\"}]}, \"layout\": {\"annotationdefaults\": {\"arrowcolor\": \"#2a3f5f\", \"arrowhead\": 0, \"arrowwidth\": 1}, \"coloraxis\": {\"colorbar\": {\"outlinewidth\": 0, \"ticks\": \"\"}}, \"colorscale\": {\"diverging\": [[0, \"#8e0152\"], [0.1, \"#c51b7d\"], [0.2, \"#de77ae\"], [0.3, \"#f1b6da\"], [0.4, \"#fde0ef\"], [0.5, \"#f7f7f7\"], [0.6, \"#e6f5d0\"], [0.7, \"#b8e186\"], [0.8, \"#7fbc41\"], [0.9, \"#4d9221\"], [1, \"#276419\"]], \"sequential\": [[0.0, \"#0d0887\"], [0.1111111111111111, \"#46039f\"], [0.2222222222222222, \"#7201a8\"], [0.3333333333333333, \"#9c179e\"], [0.4444444444444444, \"#bd3786\"], [0.5555555555555556, \"#d8576b\"], [0.6666666666666666, \"#ed7953\"], [0.7777777777777778, \"#fb9f3a\"], [0.8888888888888888, \"#fdca26\"], [1.0, \"#f0f921\"]], \"sequentialminus\": [[0.0, \"#0d0887\"], [0.1111111111111111, \"#46039f\"], [0.2222222222222222, \"#7201a8\"], [0.3333333333333333, \"#9c179e\"], [0.4444444444444444, \"#bd3786\"], [0.5555555555555556, \"#d8576b\"], [0.6666666666666666, \"#ed7953\"], [0.7777777777777778, \"#fb9f3a\"], [0.8888888888888888, \"#fdca26\"], [1.0, \"#f0f921\"]]}, \"colorway\": [\"#636efa\", \"#EF553B\", \"#00cc96\", \"#ab63fa\", \"#FFA15A\", \"#19d3f3\", \"#FF6692\", \"#B6E880\", \"#FF97FF\", \"#FECB52\"], \"font\": {\"color\": \"#2a3f5f\"}, \"geo\": {\"bgcolor\": \"white\", \"lakecolor\": \"white\", \"landcolor\": \"#E5ECF6\", \"showlakes\": true, \"showland\": true, \"subunitcolor\": \"white\"}, \"hoverlabel\": {\"align\": \"left\"}, \"hovermode\": \"closest\", \"mapbox\": {\"style\": \"light\"}, \"paper_bgcolor\": \"white\", \"plot_bgcolor\": \"#E5ECF6\", \"polar\": {\"angularaxis\": {\"gridcolor\": \"white\", \"linecolor\": \"white\", \"ticks\": \"\"}, \"bgcolor\": \"#E5ECF6\", \"radialaxis\": {\"gridcolor\": \"white\", \"linecolor\": \"white\", \"ticks\": \"\"}}, \"scene\": {\"xaxis\": {\"backgroundcolor\": \"#E5ECF6\", \"gridcolor\": \"white\", \"gridwidth\": 2, \"linecolor\": \"white\", \"showbackground\": true, \"ticks\": \"\", \"zerolinecolor\": \"white\"}, \"yaxis\": {\"backgroundcolor\": \"#E5ECF6\", \"gridcolor\": \"white\", \"gridwidth\": 2, \"linecolor\": \"white\", \"showbackground\": true, \"ticks\": \"\", \"zerolinecolor\": \"white\"}, \"zaxis\": {\"backgroundcolor\": \"#E5ECF6\", \"gridcolor\": \"white\", \"gridwidth\": 2, \"linecolor\": \"white\", \"showbackground\": true, \"ticks\": \"\", \"zerolinecolor\": \"white\"}}, \"shapedefaults\": {\"line\": {\"color\": \"#2a3f5f\"}}, \"ternary\": {\"aaxis\": {\"gridcolor\": \"white\", \"linecolor\": \"white\", \"ticks\": \"\"}, \"baxis\": {\"gridcolor\": \"white\", \"linecolor\": \"white\", \"ticks\": \"\"}, \"bgcolor\": \"#E5ECF6\", \"caxis\": {\"gridcolor\": \"white\", \"linecolor\": \"white\", \"ticks\": \"\"}}, \"title\": {\"x\": 0.05}, \"xaxis\": {\"automargin\": true, \"gridcolor\": \"white\", \"linecolor\": \"white\", \"ticks\": \"\", \"title\": {\"standoff\": 15}, \"zerolinecolor\": \"white\", \"zerolinewidth\": 2}, \"yaxis\": {\"automargin\": true, \"gridcolor\": \"white\", \"linecolor\": \"white\", \"ticks\": \"\", \"title\": {\"standoff\": 15}, \"zerolinecolor\": \"white\", \"zerolinewidth\": 2}}}},\n",
              "                        {\"responsive\": true}\n",
              "                    ).then(function(){\n",
              "                            \n",
              "var gd = document.getElementById('1fd0f7e3-ce24-479d-b99b-490d9fef5d2f');\n",
              "var x = new MutationObserver(function (mutations, observer) {{\n",
              "        var display = window.getComputedStyle(gd).display;\n",
              "        if (!display || display === 'none') {{\n",
              "            console.log([gd, 'removed!']);\n",
              "            Plotly.purge(gd);\n",
              "            observer.disconnect();\n",
              "        }}\n",
              "}});\n",
              "\n",
              "// Listen for the removal of the full notebook cells\n",
              "var notebookContainer = gd.closest('#notebook-container');\n",
              "if (notebookContainer) {{\n",
              "    x.observe(notebookContainer, {childList: true});\n",
              "}}\n",
              "\n",
              "// Listen for the clearing of the current output cell\n",
              "var outputEl = gd.closest('.output');\n",
              "if (outputEl) {{\n",
              "    x.observe(outputEl, {childList: true});\n",
              "}}\n",
              "\n",
              "                        })\n",
              "                };\n",
              "                \n",
              "            </script>\n",
              "        </div>\n",
              "</body>\n",
              "</html>"
            ]
          },
          "metadata": {
            "tags": []
          }
        }
      ]
    },
    {
      "cell_type": "code",
      "metadata": {
        "id": "In1tmvmSv4VS"
      },
      "source": [
        "from sklearn.linear_model import LogisticRegression\n",
        "from sklearn.metrics import accuracy_score, confusion_matrix, plot_confusion_matrix, classification_report, precision_score, recall_score, f1_score\n",
        "from sklearn.model_selection import train_test_split, StratifiedKFold, GridSearchCV, RandomizedSearchCV\n",
        "from sklearn.tree import DecisionTreeClassifier\n",
        "from sklearn.ensemble import RandomForestClassifier"
      ],
      "execution_count": 7,
      "outputs": []
    },
    {
      "cell_type": "markdown",
      "metadata": {
        "id": "x8S8xBv9ETX_"
      },
      "source": [
        "# SMOTE: Synthetic Minority Oversampling TEchnique"
      ]
    },
    {
      "cell_type": "markdown",
      "metadata": {
        "id": "6WXNPCaSEiWl"
      },
      "source": [
        "Algorithm is picking a random point from the under-represented class and computing k-nearest neighbours for its. The synthetic points are added between the choosen point and its neighbours."
      ]
    },
    {
      "cell_type": "code",
      "metadata": {
        "id": "GjC_am8IFGRO"
      },
      "source": [
        "features = [col for col in data.columns if col != \"stroke\"]\n",
        "features = data[features]\n",
        "labels = data[\"stroke\"]"
      ],
      "execution_count": 8,
      "outputs": []
    },
    {
      "cell_type": "code",
      "metadata": {
        "id": "76PUXf91WGUm"
      },
      "source": [
        "X_train, X_test, y_train, y_test = train_test_split(features, labels, test_size=0.2, random_state=0)"
      ],
      "execution_count": 9,
      "outputs": []
    },
    {
      "cell_type": "code",
      "metadata": {
        "colab": {
          "base_uri": "https://localhost:8080/"
        },
        "id": "Kt93-1KkEe6D",
        "outputId": "e4bfe538-b156-44c1-ad1a-70efd8765dc5"
      },
      "source": [
        "from imblearn.over_sampling import SMOTE\n",
        "smote = SMOTE(ratio=\"minority\", random_state=0)\n",
        "X_sm, y_sm = smote.fit_sample(X_train, y_train)\n"
      ],
      "execution_count": 10,
      "outputs": [
        {
          "output_type": "stream",
          "text": [
            "/usr/local/lib/python3.7/dist-packages/sklearn/externals/six.py:31: FutureWarning:\n",
            "\n",
            "The module is deprecated in version 0.21 and will be removed in version 0.23 since we've dropped support for Python 2.7. Please rely on the official version of six (https://pypi.org/project/six/).\n",
            "\n",
            "/usr/local/lib/python3.7/dist-packages/sklearn/utils/deprecation.py:144: FutureWarning:\n",
            "\n",
            "The sklearn.neighbors.base module is  deprecated in version 0.22 and will be removed in version 0.24. The corresponding classes / functions should instead be imported from sklearn.neighbors. Anything that cannot be imported from sklearn.neighbors is now part of the private API.\n",
            "\n",
            "/usr/local/lib/python3.7/dist-packages/sklearn/utils/deprecation.py:87: FutureWarning:\n",
            "\n",
            "Function safe_indexing is deprecated; safe_indexing is deprecated in version 0.22 and will be removed in version 0.24.\n",
            "\n"
          ],
          "name": "stderr"
        }
      ]
    },
    {
      "cell_type": "markdown",
      "metadata": {
        "id": "2PePoR2gWTF_"
      },
      "source": [
        "# SMOTE + TOMEK "
      ]
    },
    {
      "cell_type": "code",
      "metadata": {
        "id": "GcuvSzGBWvxC",
        "colab": {
          "base_uri": "https://localhost:8080/"
        },
        "outputId": "2736e33b-f2d8-4b5c-95bd-950c4f1d0886"
      },
      "source": [
        "from imblearn.combine import SMOTETomek\n",
        "\n",
        "tomek = SMOTETomek(random_state=0)\n",
        "X_tom, y_tom = tomek.fit_resample(X_train, y_train)"
      ],
      "execution_count": 11,
      "outputs": [
        {
          "output_type": "stream",
          "text": [
            "/usr/local/lib/python3.7/dist-packages/sklearn/utils/deprecation.py:87: FutureWarning:\n",
            "\n",
            "Function safe_indexing is deprecated; safe_indexing is deprecated in version 0.22 and will be removed in version 0.24.\n",
            "\n",
            "/usr/local/lib/python3.7/dist-packages/sklearn/utils/deprecation.py:87: FutureWarning:\n",
            "\n",
            "Function safe_indexing is deprecated; safe_indexing is deprecated in version 0.22 and will be removed in version 0.24.\n",
            "\n"
          ],
          "name": "stderr"
        }
      ]
    },
    {
      "cell_type": "markdown",
      "metadata": {
        "id": "RPz1iRSfGRM8"
      },
      "source": [
        "# SMOTE + ENN "
      ]
    },
    {
      "cell_type": "code",
      "metadata": {
        "id": "hc4o-l6UGQnv",
        "colab": {
          "base_uri": "https://localhost:8080/"
        },
        "outputId": "c310f8ea-5e4e-40d2-eb2e-0e567abb4163"
      },
      "source": [
        "from imblearn.combine import SMOTEENN \n",
        "enn = SMOTEENN(random_state=0)\n",
        "X_enn, y_enn = enn.fit_resample(X_train, y_train)"
      ],
      "execution_count": 12,
      "outputs": [
        {
          "output_type": "stream",
          "text": [
            "/usr/local/lib/python3.7/dist-packages/sklearn/utils/deprecation.py:87: FutureWarning:\n",
            "\n",
            "Function safe_indexing is deprecated; safe_indexing is deprecated in version 0.22 and will be removed in version 0.24.\n",
            "\n",
            "/usr/local/lib/python3.7/dist-packages/sklearn/utils/deprecation.py:87: FutureWarning:\n",
            "\n",
            "Function safe_indexing is deprecated; safe_indexing is deprecated in version 0.22 and will be removed in version 0.24.\n",
            "\n",
            "/usr/local/lib/python3.7/dist-packages/sklearn/utils/deprecation.py:87: FutureWarning:\n",
            "\n",
            "Function safe_indexing is deprecated; safe_indexing is deprecated in version 0.22 and will be removed in version 0.24.\n",
            "\n",
            "/usr/local/lib/python3.7/dist-packages/sklearn/utils/deprecation.py:87: FutureWarning:\n",
            "\n",
            "Function safe_indexing is deprecated; safe_indexing is deprecated in version 0.22 and will be removed in version 0.24.\n",
            "\n"
          ],
          "name": "stderr"
        }
      ]
    },
    {
      "cell_type": "markdown",
      "metadata": {
        "id": "ehKZRqcqJpRi"
      },
      "source": [
        "# ADASYN"
      ]
    },
    {
      "cell_type": "code",
      "metadata": {
        "id": "f4IuKuAnJo3M",
        "colab": {
          "base_uri": "https://localhost:8080/"
        },
        "outputId": "2a76f351-69fe-4715-aefc-63401ac8c31d"
      },
      "source": [
        "from imblearn.over_sampling import ADASYN\n",
        "ada = ADASYN(random_state=0)\n",
        "X_ada, y_ada = ada.fit_resample(X_train, y_train)"
      ],
      "execution_count": 13,
      "outputs": [
        {
          "output_type": "stream",
          "text": [
            "/usr/local/lib/python3.7/dist-packages/sklearn/utils/deprecation.py:87: FutureWarning:\n",
            "\n",
            "Function safe_indexing is deprecated; safe_indexing is deprecated in version 0.22 and will be removed in version 0.24.\n",
            "\n"
          ],
          "name": "stderr"
        }
      ]
    },
    {
      "cell_type": "markdown",
      "metadata": {
        "id": "ZrrSaFmiK51f"
      },
      "source": [
        "# MODEL AND HYPERPARAMETER SEARCH\n"
      ]
    },
    {
      "cell_type": "code",
      "metadata": {
        "id": "mAm072LAKHQE"
      },
      "source": [
        "data = {\n",
        "    \"ADASYN\" : [X_ada, y_ada],\n",
        "    \"SMOTE+ENN\" :[X_enn, y_enn],\n",
        "    \"TOMEK\" : [X_tom, y_tom],\n",
        "    \"SMOTE\" : [X_sm, y_sm],\n",
        "   # \"NO RESAMPLING\" : [features, labels]\n",
        "}"
      ],
      "execution_count": 14,
      "outputs": []
    },
    {
      "cell_type": "code",
      "metadata": {
        "id": "72tqfS8TLOlq"
      },
      "source": [
        "param_grid = {\n",
        "    \"logistic_regression\" : {\n",
        "        \"model\": LogisticRegression(),\n",
        "        \"parameters\": {\n",
        "            \"penalty\": [\"l1\", \"l2\"],\n",
        "            \"C\":[i for i in range(1, 11)],\n",
        "                      } \n",
        "                            },\n",
        "\n",
        "    \n",
        "    \"random_forest\" : {\n",
        "        \"model\": RandomForestClassifier(),\n",
        "        \"parameters\" : {\n",
        "            \"n_estimators\":list(range(5, 25, 5)),\n",
        "            \"max_depth\":list(range(5,16,2)),\n",
        "            \"criterion\" : [\"gini\", \"entropy\"],\n",
        "            \"max_features\": [\"auto\", \"log2\"],\n",
        "            \"min_samples_leaf\" : [1,2,4],\n",
        "            \"min_samples_split\" : [2,5,10,15,20,35,50,75,100]\n",
        "                        }\n",
        "                      }\n",
        "\n",
        "}"
      ],
      "execution_count": 15,
      "outputs": []
    },
    {
      "cell_type": "code",
      "metadata": {
        "id": "TnzZY3HYO2TV"
      },
      "source": [
        "def evaluate(model, resamplin_algo, X_test, y_test, best_model, best_params): \n",
        "  y_pred = best_model.predict(X_test)\n",
        "  print(confusion_matrix(y_test, y_pred))\n",
        "  precision = precision_score(y_test, y_pred)\n",
        "  recall = recall_score(y_test, y_pred)\n",
        "  f1 = f1_score(y_test, y_pred)\n",
        "  print(\"Precision: {}, Recall: {}, F1: {}\".format(precision, recall, f1))\n",
        "\n",
        "  return model, resamplin_algo, precision, recall, f1 , best_params"
      ],
      "execution_count": 17,
      "outputs": []
    },
    {
      "cell_type": "code",
      "metadata": {
        "id": "UVPz6E44Q6i2",
        "colab": {
          "base_uri": "https://localhost:8080/"
        },
        "outputId": "579c408b-7916-4787-d7c5-a4634c13e14a"
      },
      "source": [
        "results = []\n",
        "cv = StratifiedKFold(n_splits=5, random_state=0, shuffle=True)\n",
        "\n",
        "for model, params in param_grid.items(): \n",
        "  for resampling_algo, transformed_data in data.items(): \n",
        "    search = GridSearchCV(params[\"model\"], params[\"parameters\"], cv=cv, scoring=\"roc_auc\", n_jobs=-1)\n",
        "    search.fit(transformed_data[0], transformed_data[1])\n",
        "    print(\"*\"*60)\n",
        "    print(\"Evaluation of {} with resampling strategy: {}\".format(model, resampling_algo))\n",
        "    #print(search.best_params_)\n",
        "    best_model = search.best_estimator_\n",
        "    results.append(evaluate(model, resampling_algo, X_test, y_test, best_model, search.best_params_))"
      ],
      "execution_count": 18,
      "outputs": [
        {
          "output_type": "stream",
          "text": [
            "************************************************************\n",
            "Evaluation of logistic_regression with resampling strategy: ADASYN\n",
            "[[629 226]\n",
            " [  3  19]]\n",
            "Precision: 0.07755102040816327, Recall: 0.8636363636363636, F1: 0.14232209737827717\n"
          ],
          "name": "stdout"
        },
        {
          "output_type": "stream",
          "text": [
            "/usr/local/lib/python3.7/dist-packages/sklearn/linear_model/_logistic.py:940: ConvergenceWarning:\n",
            "\n",
            "lbfgs failed to converge (status=1):\n",
            "STOP: TOTAL NO. of ITERATIONS REACHED LIMIT.\n",
            "\n",
            "Increase the number of iterations (max_iter) or scale the data as shown in:\n",
            "    https://scikit-learn.org/stable/modules/preprocessing.html\n",
            "Please also refer to the documentation for alternative solver options:\n",
            "    https://scikit-learn.org/stable/modules/linear_model.html#logistic-regression\n",
            "\n"
          ],
          "name": "stderr"
        },
        {
          "output_type": "stream",
          "text": [
            "************************************************************\n",
            "Evaluation of logistic_regression with resampling strategy: SMOTE+ENN\n",
            "[[605 250]\n",
            " [  2  20]]\n",
            "Precision: 0.07407407407407407, Recall: 0.9090909090909091, F1: 0.136986301369863\n",
            "************************************************************\n",
            "Evaluation of logistic_regression with resampling strategy: TOMEK\n",
            "[[640 215]\n",
            " [  4  18]]\n",
            "Precision: 0.07725321888412018, Recall: 0.8181818181818182, F1: 0.1411764705882353\n"
          ],
          "name": "stdout"
        },
        {
          "output_type": "stream",
          "text": [
            "/usr/local/lib/python3.7/dist-packages/sklearn/linear_model/_logistic.py:940: ConvergenceWarning:\n",
            "\n",
            "lbfgs failed to converge (status=1):\n",
            "STOP: TOTAL NO. of ITERATIONS REACHED LIMIT.\n",
            "\n",
            "Increase the number of iterations (max_iter) or scale the data as shown in:\n",
            "    https://scikit-learn.org/stable/modules/preprocessing.html\n",
            "Please also refer to the documentation for alternative solver options:\n",
            "    https://scikit-learn.org/stable/modules/linear_model.html#logistic-regression\n",
            "\n"
          ],
          "name": "stderr"
        },
        {
          "output_type": "stream",
          "text": [
            "************************************************************\n",
            "Evaluation of logistic_regression with resampling strategy: SMOTE\n",
            "[[637 218]\n",
            " [  4  18]]\n",
            "Precision: 0.07627118644067797, Recall: 0.8181818181818182, F1: 0.13953488372093023\n",
            "************************************************************\n",
            "Evaluation of random_forest with resampling strategy: ADASYN\n",
            "[[828  27]\n",
            " [ 18   4]]\n",
            "Precision: 0.12903225806451613, Recall: 0.18181818181818182, F1: 0.1509433962264151\n",
            "************************************************************\n",
            "Evaluation of random_forest with resampling strategy: SMOTE+ENN\n",
            "[[798  57]\n",
            " [ 12  10]]\n",
            "Precision: 0.14925373134328357, Recall: 0.45454545454545453, F1: 0.22471910112359547\n",
            "************************************************************\n",
            "Evaluation of random_forest with resampling strategy: TOMEK\n",
            "[[831  24]\n",
            " [ 20   2]]\n",
            "Precision: 0.07692307692307693, Recall: 0.09090909090909091, F1: 0.08333333333333334\n",
            "************************************************************\n",
            "Evaluation of random_forest with resampling strategy: SMOTE\n",
            "[[837  18]\n",
            " [ 20   2]]\n",
            "Precision: 0.1, Recall: 0.09090909090909091, F1: 0.09523809523809525\n"
          ],
          "name": "stdout"
        }
      ]
    },
    {
      "cell_type": "code",
      "metadata": {
        "id": "Grla-hHCXgcT",
        "outputId": "085c43aa-2702-449f-af13-8f1dfd51a977",
        "colab": {
          "base_uri": "https://localhost:8080/"
        }
      },
      "source": [
        "final_results = pd.DataFrame(results, columns = [\"model\", \"resamplin_algo\", \"precision\", \"recall\", \"f1\", \"best_params\"])\n",
        "final_results.sort_values(by=\"precision\", ascending=False)\n",
        "print(final_results)"
      ],
      "execution_count": 19,
      "outputs": [
        {
          "output_type": "stream",
          "text": [
            "                 model  ...                                        best_params\n",
            "0  logistic_regression  ...                          {'C': 5, 'penalty': 'l2'}\n",
            "1  logistic_regression  ...                         {'C': 10, 'penalty': 'l2'}\n",
            "2  logistic_regression  ...                          {'C': 9, 'penalty': 'l2'}\n",
            "3  logistic_regression  ...                          {'C': 4, 'penalty': 'l2'}\n",
            "4        random_forest  ...  {'criterion': 'gini', 'max_depth': 15, 'max_fe...\n",
            "5        random_forest  ...  {'criterion': 'gini', 'max_depth': 15, 'max_fe...\n",
            "6        random_forest  ...  {'criterion': 'gini', 'max_depth': 15, 'max_fe...\n",
            "7        random_forest  ...  {'criterion': 'entropy', 'max_depth': 15, 'max...\n",
            "\n",
            "[8 rows x 6 columns]\n"
          ],
          "name": "stdout"
        }
      ]
    },
    {
      "cell_type": "code",
      "metadata": {
        "id": "TuHxlR8_pDXN"
      },
      "source": [
        "from IPython.display import HTML"
      ],
      "execution_count": 25,
      "outputs": []
    },
    {
      "cell_type": "code",
      "metadata": {
        "id": "3o1kEbrEolfK",
        "outputId": "7a152d2b-e829-4e4f-b90a-efc501e632a2",
        "colab": {
          "base_uri": "https://localhost:8080/",
          "height": 300
        }
      },
      "source": [
        "pretty_df = HTML(final_results.to_html())\n",
        "display(pretty_df)"
      ],
      "execution_count": 27,
      "outputs": [
        {
          "output_type": "display_data",
          "data": {
            "text/html": [
              "<table border=\"1\" class=\"dataframe\">\n",
              "  <thead>\n",
              "    <tr style=\"text-align: right;\">\n",
              "      <th></th>\n",
              "      <th>model</th>\n",
              "      <th>resamplin_algo</th>\n",
              "      <th>precision</th>\n",
              "      <th>recall</th>\n",
              "      <th>f1</th>\n",
              "      <th>best_params</th>\n",
              "    </tr>\n",
              "  </thead>\n",
              "  <tbody>\n",
              "    <tr>\n",
              "      <th>0</th>\n",
              "      <td>logistic_regression</td>\n",
              "      <td>ADASYN</td>\n",
              "      <td>0.077551</td>\n",
              "      <td>0.863636</td>\n",
              "      <td>0.142322</td>\n",
              "      <td>{'C': 5, 'penalty': 'l2'}</td>\n",
              "    </tr>\n",
              "    <tr>\n",
              "      <th>1</th>\n",
              "      <td>logistic_regression</td>\n",
              "      <td>SMOTE+ENN</td>\n",
              "      <td>0.074074</td>\n",
              "      <td>0.909091</td>\n",
              "      <td>0.136986</td>\n",
              "      <td>{'C': 10, 'penalty': 'l2'}</td>\n",
              "    </tr>\n",
              "    <tr>\n",
              "      <th>2</th>\n",
              "      <td>logistic_regression</td>\n",
              "      <td>TOMEK</td>\n",
              "      <td>0.077253</td>\n",
              "      <td>0.818182</td>\n",
              "      <td>0.141176</td>\n",
              "      <td>{'C': 9, 'penalty': 'l2'}</td>\n",
              "    </tr>\n",
              "    <tr>\n",
              "      <th>3</th>\n",
              "      <td>logistic_regression</td>\n",
              "      <td>SMOTE</td>\n",
              "      <td>0.076271</td>\n",
              "      <td>0.818182</td>\n",
              "      <td>0.139535</td>\n",
              "      <td>{'C': 4, 'penalty': 'l2'}</td>\n",
              "    </tr>\n",
              "    <tr>\n",
              "      <th>4</th>\n",
              "      <td>random_forest</td>\n",
              "      <td>ADASYN</td>\n",
              "      <td>0.129032</td>\n",
              "      <td>0.181818</td>\n",
              "      <td>0.150943</td>\n",
              "      <td>{'criterion': 'gini', 'max_depth': 15, 'max_features': 'log2', 'min_samples_leaf': 1, 'min_samples_split': 2, 'n_estimators': 15}</td>\n",
              "    </tr>\n",
              "    <tr>\n",
              "      <th>5</th>\n",
              "      <td>random_forest</td>\n",
              "      <td>SMOTE+ENN</td>\n",
              "      <td>0.149254</td>\n",
              "      <td>0.454545</td>\n",
              "      <td>0.224719</td>\n",
              "      <td>{'criterion': 'gini', 'max_depth': 15, 'max_features': 'auto', 'min_samples_leaf': 1, 'min_samples_split': 2, 'n_estimators': 20}</td>\n",
              "    </tr>\n",
              "    <tr>\n",
              "      <th>6</th>\n",
              "      <td>random_forest</td>\n",
              "      <td>TOMEK</td>\n",
              "      <td>0.076923</td>\n",
              "      <td>0.090909</td>\n",
              "      <td>0.083333</td>\n",
              "      <td>{'criterion': 'gini', 'max_depth': 15, 'max_features': 'auto', 'min_samples_leaf': 1, 'min_samples_split': 5, 'n_estimators': 20}</td>\n",
              "    </tr>\n",
              "    <tr>\n",
              "      <th>7</th>\n",
              "      <td>random_forest</td>\n",
              "      <td>SMOTE</td>\n",
              "      <td>0.100000</td>\n",
              "      <td>0.090909</td>\n",
              "      <td>0.095238</td>\n",
              "      <td>{'criterion': 'entropy', 'max_depth': 15, 'max_features': 'auto', 'min_samples_leaf': 1, 'min_samples_split': 5, 'n_estimators': 20}</td>\n",
              "    </tr>\n",
              "  </tbody>\n",
              "</table>"
            ],
            "text/plain": [
              "<IPython.core.display.HTML object>"
            ]
          },
          "metadata": {
            "tags": []
          }
        }
      ]
    },
    {
      "cell_type": "code",
      "metadata": {
        "id": "oQ8iDxl7a2YX",
        "outputId": "8c70917b-46be-45a1-ebe2-2fea8c3326ec",
        "colab": {
          "base_uri": "https://localhost:8080/"
        }
      },
      "source": [
        "final_l_reg = LogisticRegression(C=5, penalty=\"l2\")\n",
        "final_l_reg.fit(X_ada, y_ada)\n",
        "print(\"*\"*60)\n",
        "y_pred = final_l_reg.predict(X_test)\n",
        "print(confusion_matrix(y_test, y_pred))\n",
        "precision = precision_score(y_test, y_pred)\n",
        "recall = recall_score(y_test, y_pred)\n",
        "f1 = f1_score(y_test, y_pred)\n",
        "print(\"Precision: {}, Recall: {}, F1: {}\".format(precision, recall, f1))"
      ],
      "execution_count": 28,
      "outputs": [
        {
          "output_type": "stream",
          "text": [
            "************************************************************\n",
            "[[629 226]\n",
            " [  3  19]]\n",
            "Precision: 0.07755102040816327, Recall: 0.8636363636363636, F1: 0.14232209737827717\n"
          ],
          "name": "stdout"
        }
      ]
    },
    {
      "cell_type": "code",
      "metadata": {
        "id": "2VJnC9WkQOjT"
      },
      "source": [
        "import joblib\n",
        "def save_model(model):\n",
        "  model_name = type(model).__name__\n",
        "  save_file_name = f\"{model_name}.pkl\"\n",
        "  joblib.dump(model, save_file_name)"
      ],
      "execution_count": 30,
      "outputs": []
    },
    {
      "cell_type": "code",
      "metadata": {
        "id": "3QzsPR0jdoNq"
      },
      "source": [
        "save_model(final_l_reg)"
      ],
      "execution_count": 32,
      "outputs": []
    }
  ]
}